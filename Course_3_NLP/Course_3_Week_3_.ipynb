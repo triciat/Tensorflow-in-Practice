{
  "nbformat": 4,
  "nbformat_minor": 0,
  "metadata": {
    "colab": {
      "name": "Course 3 - Week 3 .ipynb",
      "provenance": [],
      "collapsed_sections": [],
      "toc_visible": true,
      "include_colab_link": true
    },
    "kernelspec": {
      "display_name": "Python 3",
      "name": "python3"
    },
    "widgets": {
      "application/vnd.jupyter.widget-state+json": {
        "3c9c211af62c49148b84aa76549cba50": {
          "model_module": "@jupyter-widgets/controls",
          "model_name": "HBoxModel",
          "state": {
            "_view_name": "HBoxView",
            "_dom_classes": [],
            "_model_name": "HBoxModel",
            "_view_module": "@jupyter-widgets/controls",
            "_model_module_version": "1.5.0",
            "_view_count": null,
            "_view_module_version": "1.5.0",
            "box_style": "",
            "layout": "IPY_MODEL_d855ed71e5384466b74c385280a1c4f7",
            "_model_module": "@jupyter-widgets/controls",
            "children": [
              "IPY_MODEL_f6d2f7c9a0c84bc7942caaf74928d34b",
              "IPY_MODEL_1b60f7c0c07b443383ada587ba6b9cad"
            ]
          }
        },
        "d855ed71e5384466b74c385280a1c4f7": {
          "model_module": "@jupyter-widgets/base",
          "model_name": "LayoutModel",
          "state": {
            "_view_name": "LayoutView",
            "grid_template_rows": null,
            "right": null,
            "justify_content": null,
            "_view_module": "@jupyter-widgets/base",
            "overflow": null,
            "_model_module_version": "1.2.0",
            "_view_count": null,
            "flex_flow": null,
            "width": null,
            "min_width": null,
            "border": null,
            "align_items": null,
            "bottom": null,
            "_model_module": "@jupyter-widgets/base",
            "top": null,
            "grid_column": null,
            "overflow_y": null,
            "overflow_x": null,
            "grid_auto_flow": null,
            "grid_area": null,
            "grid_template_columns": null,
            "flex": null,
            "_model_name": "LayoutModel",
            "justify_items": null,
            "grid_row": null,
            "max_height": null,
            "align_content": null,
            "visibility": null,
            "align_self": null,
            "height": null,
            "min_height": null,
            "padding": null,
            "grid_auto_rows": null,
            "grid_gap": null,
            "max_width": null,
            "order": null,
            "_view_module_version": "1.2.0",
            "grid_template_areas": null,
            "object_position": null,
            "object_fit": null,
            "grid_auto_columns": null,
            "margin": null,
            "display": null,
            "left": null
          }
        },
        "f6d2f7c9a0c84bc7942caaf74928d34b": {
          "model_module": "@jupyter-widgets/controls",
          "model_name": "FloatProgressModel",
          "state": {
            "_view_name": "ProgressView",
            "style": "IPY_MODEL_635127d9ba8d4e79a19cca66ec53a2d6",
            "_dom_classes": [],
            "description": "Dl Completed...: ",
            "_model_name": "FloatProgressModel",
            "bar_style": "success",
            "max": 1,
            "_view_module": "@jupyter-widgets/controls",
            "_model_module_version": "1.5.0",
            "value": 0,
            "_view_count": null,
            "_view_module_version": "1.5.0",
            "orientation": "horizontal",
            "min": 0,
            "description_tooltip": null,
            "_model_module": "@jupyter-widgets/controls",
            "layout": "IPY_MODEL_3c5433b360a14185ab202c3a750f4246"
          }
        },
        "1b60f7c0c07b443383ada587ba6b9cad": {
          "model_module": "@jupyter-widgets/controls",
          "model_name": "HTMLModel",
          "state": {
            "_view_name": "HTMLView",
            "style": "IPY_MODEL_ec7e75acadcf41f89312575f135645d2",
            "_dom_classes": [],
            "description": "",
            "_model_name": "HTMLModel",
            "placeholder": "​",
            "_view_module": "@jupyter-widgets/controls",
            "_model_module_version": "1.5.0",
            "value": " 0/0 [00:00&lt;?, ? url/s]",
            "_view_count": null,
            "_view_module_version": "1.5.0",
            "description_tooltip": null,
            "_model_module": "@jupyter-widgets/controls",
            "layout": "IPY_MODEL_dd7ff78287d343d2894640a6a3e0a8f8"
          }
        },
        "635127d9ba8d4e79a19cca66ec53a2d6": {
          "model_module": "@jupyter-widgets/controls",
          "model_name": "ProgressStyleModel",
          "state": {
            "_view_name": "StyleView",
            "_model_name": "ProgressStyleModel",
            "description_width": "initial",
            "_view_module": "@jupyter-widgets/base",
            "_model_module_version": "1.5.0",
            "_view_count": null,
            "_view_module_version": "1.2.0",
            "bar_color": null,
            "_model_module": "@jupyter-widgets/controls"
          }
        },
        "3c5433b360a14185ab202c3a750f4246": {
          "model_module": "@jupyter-widgets/base",
          "model_name": "LayoutModel",
          "state": {
            "_view_name": "LayoutView",
            "grid_template_rows": null,
            "right": null,
            "justify_content": null,
            "_view_module": "@jupyter-widgets/base",
            "overflow": null,
            "_model_module_version": "1.2.0",
            "_view_count": null,
            "flex_flow": null,
            "width": null,
            "min_width": null,
            "border": null,
            "align_items": null,
            "bottom": null,
            "_model_module": "@jupyter-widgets/base",
            "top": null,
            "grid_column": null,
            "overflow_y": null,
            "overflow_x": null,
            "grid_auto_flow": null,
            "grid_area": null,
            "grid_template_columns": null,
            "flex": null,
            "_model_name": "LayoutModel",
            "justify_items": null,
            "grid_row": null,
            "max_height": null,
            "align_content": null,
            "visibility": null,
            "align_self": null,
            "height": null,
            "min_height": null,
            "padding": null,
            "grid_auto_rows": null,
            "grid_gap": null,
            "max_width": null,
            "order": null,
            "_view_module_version": "1.2.0",
            "grid_template_areas": null,
            "object_position": null,
            "object_fit": null,
            "grid_auto_columns": null,
            "margin": null,
            "display": null,
            "left": null
          }
        },
        "ec7e75acadcf41f89312575f135645d2": {
          "model_module": "@jupyter-widgets/controls",
          "model_name": "DescriptionStyleModel",
          "state": {
            "_view_name": "StyleView",
            "_model_name": "DescriptionStyleModel",
            "description_width": "",
            "_view_module": "@jupyter-widgets/base",
            "_model_module_version": "1.5.0",
            "_view_count": null,
            "_view_module_version": "1.2.0",
            "_model_module": "@jupyter-widgets/controls"
          }
        },
        "dd7ff78287d343d2894640a6a3e0a8f8": {
          "model_module": "@jupyter-widgets/base",
          "model_name": "LayoutModel",
          "state": {
            "_view_name": "LayoutView",
            "grid_template_rows": null,
            "right": null,
            "justify_content": null,
            "_view_module": "@jupyter-widgets/base",
            "overflow": null,
            "_model_module_version": "1.2.0",
            "_view_count": null,
            "flex_flow": null,
            "width": null,
            "min_width": null,
            "border": null,
            "align_items": null,
            "bottom": null,
            "_model_module": "@jupyter-widgets/base",
            "top": null,
            "grid_column": null,
            "overflow_y": null,
            "overflow_x": null,
            "grid_auto_flow": null,
            "grid_area": null,
            "grid_template_columns": null,
            "flex": null,
            "_model_name": "LayoutModel",
            "justify_items": null,
            "grid_row": null,
            "max_height": null,
            "align_content": null,
            "visibility": null,
            "align_self": null,
            "height": null,
            "min_height": null,
            "padding": null,
            "grid_auto_rows": null,
            "grid_gap": null,
            "max_width": null,
            "order": null,
            "_view_module_version": "1.2.0",
            "grid_template_areas": null,
            "object_position": null,
            "object_fit": null,
            "grid_auto_columns": null,
            "margin": null,
            "display": null,
            "left": null
          }
        },
        "dd010a14f18348658ea5c47649d93fcf": {
          "model_module": "@jupyter-widgets/controls",
          "model_name": "HBoxModel",
          "state": {
            "_view_name": "HBoxView",
            "_dom_classes": [],
            "_model_name": "HBoxModel",
            "_view_module": "@jupyter-widgets/controls",
            "_model_module_version": "1.5.0",
            "_view_count": null,
            "_view_module_version": "1.5.0",
            "box_style": "",
            "layout": "IPY_MODEL_e69413800185412d86640742a96303b1",
            "_model_module": "@jupyter-widgets/controls",
            "children": [
              "IPY_MODEL_e91b921c6c354fa4bfddeab417580ad6",
              "IPY_MODEL_7ae2523683964e5e99d3a9c79aa6b9f1"
            ]
          }
        },
        "e69413800185412d86640742a96303b1": {
          "model_module": "@jupyter-widgets/base",
          "model_name": "LayoutModel",
          "state": {
            "_view_name": "LayoutView",
            "grid_template_rows": null,
            "right": null,
            "justify_content": null,
            "_view_module": "@jupyter-widgets/base",
            "overflow": null,
            "_model_module_version": "1.2.0",
            "_view_count": null,
            "flex_flow": null,
            "width": null,
            "min_width": null,
            "border": null,
            "align_items": null,
            "bottom": null,
            "_model_module": "@jupyter-widgets/base",
            "top": null,
            "grid_column": null,
            "overflow_y": null,
            "overflow_x": null,
            "grid_auto_flow": null,
            "grid_area": null,
            "grid_template_columns": null,
            "flex": null,
            "_model_name": "LayoutModel",
            "justify_items": null,
            "grid_row": null,
            "max_height": null,
            "align_content": null,
            "visibility": null,
            "align_self": null,
            "height": null,
            "min_height": null,
            "padding": null,
            "grid_auto_rows": null,
            "grid_gap": null,
            "max_width": null,
            "order": null,
            "_view_module_version": "1.2.0",
            "grid_template_areas": null,
            "object_position": null,
            "object_fit": null,
            "grid_auto_columns": null,
            "margin": null,
            "display": null,
            "left": null
          }
        },
        "e91b921c6c354fa4bfddeab417580ad6": {
          "model_module": "@jupyter-widgets/controls",
          "model_name": "FloatProgressModel",
          "state": {
            "_view_name": "ProgressView",
            "style": "IPY_MODEL_83b9a88f65c84144b3f69ee2349ab623",
            "_dom_classes": [],
            "description": "Dl Size...: ",
            "_model_name": "FloatProgressModel",
            "bar_style": "success",
            "max": 1,
            "_view_module": "@jupyter-widgets/controls",
            "_model_module_version": "1.5.0",
            "value": 0,
            "_view_count": null,
            "_view_module_version": "1.5.0",
            "orientation": "horizontal",
            "min": 0,
            "description_tooltip": null,
            "_model_module": "@jupyter-widgets/controls",
            "layout": "IPY_MODEL_22382a4e269d45a091f577989f1ab811"
          }
        },
        "7ae2523683964e5e99d3a9c79aa6b9f1": {
          "model_module": "@jupyter-widgets/controls",
          "model_name": "HTMLModel",
          "state": {
            "_view_name": "HTMLView",
            "style": "IPY_MODEL_568f3d14c7824a2c9f50b6392b409d68",
            "_dom_classes": [],
            "description": "",
            "_model_name": "HTMLModel",
            "placeholder": "​",
            "_view_module": "@jupyter-widgets/controls",
            "_model_module_version": "1.5.0",
            "value": " 0/0 [00:00&lt;?, ? MiB/s]",
            "_view_count": null,
            "_view_module_version": "1.5.0",
            "description_tooltip": null,
            "_model_module": "@jupyter-widgets/controls",
            "layout": "IPY_MODEL_b327017fda444ae89a3fa5305b22e52c"
          }
        },
        "83b9a88f65c84144b3f69ee2349ab623": {
          "model_module": "@jupyter-widgets/controls",
          "model_name": "ProgressStyleModel",
          "state": {
            "_view_name": "StyleView",
            "_model_name": "ProgressStyleModel",
            "description_width": "initial",
            "_view_module": "@jupyter-widgets/base",
            "_model_module_version": "1.5.0",
            "_view_count": null,
            "_view_module_version": "1.2.0",
            "bar_color": null,
            "_model_module": "@jupyter-widgets/controls"
          }
        },
        "22382a4e269d45a091f577989f1ab811": {
          "model_module": "@jupyter-widgets/base",
          "model_name": "LayoutModel",
          "state": {
            "_view_name": "LayoutView",
            "grid_template_rows": null,
            "right": null,
            "justify_content": null,
            "_view_module": "@jupyter-widgets/base",
            "overflow": null,
            "_model_module_version": "1.2.0",
            "_view_count": null,
            "flex_flow": null,
            "width": null,
            "min_width": null,
            "border": null,
            "align_items": null,
            "bottom": null,
            "_model_module": "@jupyter-widgets/base",
            "top": null,
            "grid_column": null,
            "overflow_y": null,
            "overflow_x": null,
            "grid_auto_flow": null,
            "grid_area": null,
            "grid_template_columns": null,
            "flex": null,
            "_model_name": "LayoutModel",
            "justify_items": null,
            "grid_row": null,
            "max_height": null,
            "align_content": null,
            "visibility": null,
            "align_self": null,
            "height": null,
            "min_height": null,
            "padding": null,
            "grid_auto_rows": null,
            "grid_gap": null,
            "max_width": null,
            "order": null,
            "_view_module_version": "1.2.0",
            "grid_template_areas": null,
            "object_position": null,
            "object_fit": null,
            "grid_auto_columns": null,
            "margin": null,
            "display": null,
            "left": null
          }
        },
        "568f3d14c7824a2c9f50b6392b409d68": {
          "model_module": "@jupyter-widgets/controls",
          "model_name": "DescriptionStyleModel",
          "state": {
            "_view_name": "StyleView",
            "_model_name": "DescriptionStyleModel",
            "description_width": "",
            "_view_module": "@jupyter-widgets/base",
            "_model_module_version": "1.5.0",
            "_view_count": null,
            "_view_module_version": "1.2.0",
            "_model_module": "@jupyter-widgets/controls"
          }
        },
        "b327017fda444ae89a3fa5305b22e52c": {
          "model_module": "@jupyter-widgets/base",
          "model_name": "LayoutModel",
          "state": {
            "_view_name": "LayoutView",
            "grid_template_rows": null,
            "right": null,
            "justify_content": null,
            "_view_module": "@jupyter-widgets/base",
            "overflow": null,
            "_model_module_version": "1.2.0",
            "_view_count": null,
            "flex_flow": null,
            "width": null,
            "min_width": null,
            "border": null,
            "align_items": null,
            "bottom": null,
            "_model_module": "@jupyter-widgets/base",
            "top": null,
            "grid_column": null,
            "overflow_y": null,
            "overflow_x": null,
            "grid_auto_flow": null,
            "grid_area": null,
            "grid_template_columns": null,
            "flex": null,
            "_model_name": "LayoutModel",
            "justify_items": null,
            "grid_row": null,
            "max_height": null,
            "align_content": null,
            "visibility": null,
            "align_self": null,
            "height": null,
            "min_height": null,
            "padding": null,
            "grid_auto_rows": null,
            "grid_gap": null,
            "max_width": null,
            "order": null,
            "_view_module_version": "1.2.0",
            "grid_template_areas": null,
            "object_position": null,
            "object_fit": null,
            "grid_auto_columns": null,
            "margin": null,
            "display": null,
            "left": null
          }
        },
        "db40b5687ee045b48294060618421266": {
          "model_module": "@jupyter-widgets/controls",
          "model_name": "HBoxModel",
          "state": {
            "_view_name": "HBoxView",
            "_dom_classes": [],
            "_model_name": "HBoxModel",
            "_view_module": "@jupyter-widgets/controls",
            "_model_module_version": "1.5.0",
            "_view_count": null,
            "_view_module_version": "1.5.0",
            "box_style": "",
            "layout": "IPY_MODEL_ff2ed9ba7309427cba9dd8aa821045fa",
            "_model_module": "@jupyter-widgets/controls",
            "children": [
              "IPY_MODEL_d6896c87428b45d7b20287cdc4a648ac",
              "IPY_MODEL_b2b7f937f1774cd7a2f8f2d856bcaf22"
            ]
          }
        },
        "ff2ed9ba7309427cba9dd8aa821045fa": {
          "model_module": "@jupyter-widgets/base",
          "model_name": "LayoutModel",
          "state": {
            "_view_name": "LayoutView",
            "grid_template_rows": null,
            "right": null,
            "justify_content": null,
            "_view_module": "@jupyter-widgets/base",
            "overflow": null,
            "_model_module_version": "1.2.0",
            "_view_count": null,
            "flex_flow": null,
            "width": null,
            "min_width": null,
            "border": null,
            "align_items": null,
            "bottom": null,
            "_model_module": "@jupyter-widgets/base",
            "top": null,
            "grid_column": null,
            "overflow_y": null,
            "overflow_x": null,
            "grid_auto_flow": null,
            "grid_area": null,
            "grid_template_columns": null,
            "flex": null,
            "_model_name": "LayoutModel",
            "justify_items": null,
            "grid_row": null,
            "max_height": null,
            "align_content": null,
            "visibility": null,
            "align_self": null,
            "height": null,
            "min_height": null,
            "padding": null,
            "grid_auto_rows": null,
            "grid_gap": null,
            "max_width": null,
            "order": null,
            "_view_module_version": "1.2.0",
            "grid_template_areas": null,
            "object_position": null,
            "object_fit": null,
            "grid_auto_columns": null,
            "margin": null,
            "display": null,
            "left": null
          }
        },
        "d6896c87428b45d7b20287cdc4a648ac": {
          "model_module": "@jupyter-widgets/controls",
          "model_name": "FloatProgressModel",
          "state": {
            "_view_name": "ProgressView",
            "style": "IPY_MODEL_fd93524cebb3419887bb89c60ee27831",
            "_dom_classes": [],
            "description": "",
            "_model_name": "FloatProgressModel",
            "bar_style": "info",
            "max": 1,
            "_view_module": "@jupyter-widgets/controls",
            "_model_module_version": "1.5.0",
            "value": 1,
            "_view_count": null,
            "_view_module_version": "1.5.0",
            "orientation": "horizontal",
            "min": 0,
            "description_tooltip": null,
            "_model_module": "@jupyter-widgets/controls",
            "layout": "IPY_MODEL_ee4824a7298c438aa51c1e260d28aff2"
          }
        },
        "b2b7f937f1774cd7a2f8f2d856bcaf22": {
          "model_module": "@jupyter-widgets/controls",
          "model_name": "HTMLModel",
          "state": {
            "_view_name": "HTMLView",
            "style": "IPY_MODEL_b673deaba1584808bda88bcd0882f1e7",
            "_dom_classes": [],
            "description": "",
            "_model_name": "HTMLModel",
            "placeholder": "​",
            "_view_module": "@jupyter-widgets/controls",
            "_model_module_version": "1.5.0",
            "value": " 25000/0 [00:12&lt;00:00, 3873.05 examples/s]",
            "_view_count": null,
            "_view_module_version": "1.5.0",
            "description_tooltip": null,
            "_model_module": "@jupyter-widgets/controls",
            "layout": "IPY_MODEL_053012aeb0af49dbbcd38dfdeee287d3"
          }
        },
        "fd93524cebb3419887bb89c60ee27831": {
          "model_module": "@jupyter-widgets/controls",
          "model_name": "ProgressStyleModel",
          "state": {
            "_view_name": "StyleView",
            "_model_name": "ProgressStyleModel",
            "description_width": "initial",
            "_view_module": "@jupyter-widgets/base",
            "_model_module_version": "1.5.0",
            "_view_count": null,
            "_view_module_version": "1.2.0",
            "bar_color": null,
            "_model_module": "@jupyter-widgets/controls"
          }
        },
        "ee4824a7298c438aa51c1e260d28aff2": {
          "model_module": "@jupyter-widgets/base",
          "model_name": "LayoutModel",
          "state": {
            "_view_name": "LayoutView",
            "grid_template_rows": null,
            "right": null,
            "justify_content": null,
            "_view_module": "@jupyter-widgets/base",
            "overflow": null,
            "_model_module_version": "1.2.0",
            "_view_count": null,
            "flex_flow": null,
            "width": null,
            "min_width": null,
            "border": null,
            "align_items": null,
            "bottom": null,
            "_model_module": "@jupyter-widgets/base",
            "top": null,
            "grid_column": null,
            "overflow_y": null,
            "overflow_x": null,
            "grid_auto_flow": null,
            "grid_area": null,
            "grid_template_columns": null,
            "flex": null,
            "_model_name": "LayoutModel",
            "justify_items": null,
            "grid_row": null,
            "max_height": null,
            "align_content": null,
            "visibility": null,
            "align_self": null,
            "height": null,
            "min_height": null,
            "padding": null,
            "grid_auto_rows": null,
            "grid_gap": null,
            "max_width": null,
            "order": null,
            "_view_module_version": "1.2.0",
            "grid_template_areas": null,
            "object_position": null,
            "object_fit": null,
            "grid_auto_columns": null,
            "margin": null,
            "display": null,
            "left": null
          }
        },
        "b673deaba1584808bda88bcd0882f1e7": {
          "model_module": "@jupyter-widgets/controls",
          "model_name": "DescriptionStyleModel",
          "state": {
            "_view_name": "StyleView",
            "_model_name": "DescriptionStyleModel",
            "description_width": "",
            "_view_module": "@jupyter-widgets/base",
            "_model_module_version": "1.5.0",
            "_view_count": null,
            "_view_module_version": "1.2.0",
            "_model_module": "@jupyter-widgets/controls"
          }
        },
        "053012aeb0af49dbbcd38dfdeee287d3": {
          "model_module": "@jupyter-widgets/base",
          "model_name": "LayoutModel",
          "state": {
            "_view_name": "LayoutView",
            "grid_template_rows": null,
            "right": null,
            "justify_content": null,
            "_view_module": "@jupyter-widgets/base",
            "overflow": null,
            "_model_module_version": "1.2.0",
            "_view_count": null,
            "flex_flow": null,
            "width": null,
            "min_width": null,
            "border": null,
            "align_items": null,
            "bottom": null,
            "_model_module": "@jupyter-widgets/base",
            "top": null,
            "grid_column": null,
            "overflow_y": null,
            "overflow_x": null,
            "grid_auto_flow": null,
            "grid_area": null,
            "grid_template_columns": null,
            "flex": null,
            "_model_name": "LayoutModel",
            "justify_items": null,
            "grid_row": null,
            "max_height": null,
            "align_content": null,
            "visibility": null,
            "align_self": null,
            "height": null,
            "min_height": null,
            "padding": null,
            "grid_auto_rows": null,
            "grid_gap": null,
            "max_width": null,
            "order": null,
            "_view_module_version": "1.2.0",
            "grid_template_areas": null,
            "object_position": null,
            "object_fit": null,
            "grid_auto_columns": null,
            "margin": null,
            "display": null,
            "left": null
          }
        },
        "4da9b069608d4b5e97c10676fa9dc498": {
          "model_module": "@jupyter-widgets/controls",
          "model_name": "HBoxModel",
          "state": {
            "_view_name": "HBoxView",
            "_dom_classes": [],
            "_model_name": "HBoxModel",
            "_view_module": "@jupyter-widgets/controls",
            "_model_module_version": "1.5.0",
            "_view_count": null,
            "_view_module_version": "1.5.0",
            "box_style": "",
            "layout": "IPY_MODEL_4a8e886044984c7baf4273b39185f482",
            "_model_module": "@jupyter-widgets/controls",
            "children": [
              "IPY_MODEL_bf8ad41ea41f4788bc54ba08155e62b7",
              "IPY_MODEL_8c45d049ce844c4dbf9028ff39aaabf1"
            ]
          }
        },
        "4a8e886044984c7baf4273b39185f482": {
          "model_module": "@jupyter-widgets/base",
          "model_name": "LayoutModel",
          "state": {
            "_view_name": "LayoutView",
            "grid_template_rows": null,
            "right": null,
            "justify_content": null,
            "_view_module": "@jupyter-widgets/base",
            "overflow": null,
            "_model_module_version": "1.2.0",
            "_view_count": null,
            "flex_flow": null,
            "width": null,
            "min_width": null,
            "border": null,
            "align_items": null,
            "bottom": null,
            "_model_module": "@jupyter-widgets/base",
            "top": null,
            "grid_column": null,
            "overflow_y": null,
            "overflow_x": null,
            "grid_auto_flow": null,
            "grid_area": null,
            "grid_template_columns": null,
            "flex": null,
            "_model_name": "LayoutModel",
            "justify_items": null,
            "grid_row": null,
            "max_height": null,
            "align_content": null,
            "visibility": null,
            "align_self": null,
            "height": null,
            "min_height": null,
            "padding": null,
            "grid_auto_rows": null,
            "grid_gap": null,
            "max_width": null,
            "order": null,
            "_view_module_version": "1.2.0",
            "grid_template_areas": null,
            "object_position": null,
            "object_fit": null,
            "grid_auto_columns": null,
            "margin": null,
            "display": null,
            "left": null
          }
        },
        "bf8ad41ea41f4788bc54ba08155e62b7": {
          "model_module": "@jupyter-widgets/controls",
          "model_name": "FloatProgressModel",
          "state": {
            "_view_name": "ProgressView",
            "style": "IPY_MODEL_adb25cf0dc1d46ad880aba7a3d83211e",
            "_dom_classes": [],
            "description": " 59%",
            "_model_name": "FloatProgressModel",
            "bar_style": "danger",
            "max": 25000,
            "_view_module": "@jupyter-widgets/controls",
            "_model_module_version": "1.5.0",
            "value": 14746,
            "_view_count": null,
            "_view_module_version": "1.5.0",
            "orientation": "horizontal",
            "min": 0,
            "description_tooltip": null,
            "_model_module": "@jupyter-widgets/controls",
            "layout": "IPY_MODEL_744e899922914b798de3c5277329109a"
          }
        },
        "8c45d049ce844c4dbf9028ff39aaabf1": {
          "model_module": "@jupyter-widgets/controls",
          "model_name": "HTMLModel",
          "state": {
            "_view_name": "HTMLView",
            "style": "IPY_MODEL_bad3c69f37af44d78372e79d8cfe4024",
            "_dom_classes": [],
            "description": "",
            "_model_name": "HTMLModel",
            "placeholder": "​",
            "_view_module": "@jupyter-widgets/controls",
            "_model_module_version": "1.5.0",
            "value": " 14746/25000 [00:00&lt;00:00, 147459.79 examples/s]",
            "_view_count": null,
            "_view_module_version": "1.5.0",
            "description_tooltip": null,
            "_model_module": "@jupyter-widgets/controls",
            "layout": "IPY_MODEL_0730018c15f4461bbc3a07ece7acb9f5"
          }
        },
        "adb25cf0dc1d46ad880aba7a3d83211e": {
          "model_module": "@jupyter-widgets/controls",
          "model_name": "ProgressStyleModel",
          "state": {
            "_view_name": "StyleView",
            "_model_name": "ProgressStyleModel",
            "description_width": "initial",
            "_view_module": "@jupyter-widgets/base",
            "_model_module_version": "1.5.0",
            "_view_count": null,
            "_view_module_version": "1.2.0",
            "bar_color": null,
            "_model_module": "@jupyter-widgets/controls"
          }
        },
        "744e899922914b798de3c5277329109a": {
          "model_module": "@jupyter-widgets/base",
          "model_name": "LayoutModel",
          "state": {
            "_view_name": "LayoutView",
            "grid_template_rows": null,
            "right": null,
            "justify_content": null,
            "_view_module": "@jupyter-widgets/base",
            "overflow": null,
            "_model_module_version": "1.2.0",
            "_view_count": null,
            "flex_flow": null,
            "width": null,
            "min_width": null,
            "border": null,
            "align_items": null,
            "bottom": null,
            "_model_module": "@jupyter-widgets/base",
            "top": null,
            "grid_column": null,
            "overflow_y": null,
            "overflow_x": null,
            "grid_auto_flow": null,
            "grid_area": null,
            "grid_template_columns": null,
            "flex": null,
            "_model_name": "LayoutModel",
            "justify_items": null,
            "grid_row": null,
            "max_height": null,
            "align_content": null,
            "visibility": null,
            "align_self": null,
            "height": null,
            "min_height": null,
            "padding": null,
            "grid_auto_rows": null,
            "grid_gap": null,
            "max_width": null,
            "order": null,
            "_view_module_version": "1.2.0",
            "grid_template_areas": null,
            "object_position": null,
            "object_fit": null,
            "grid_auto_columns": null,
            "margin": null,
            "display": null,
            "left": null
          }
        },
        "bad3c69f37af44d78372e79d8cfe4024": {
          "model_module": "@jupyter-widgets/controls",
          "model_name": "DescriptionStyleModel",
          "state": {
            "_view_name": "StyleView",
            "_model_name": "DescriptionStyleModel",
            "description_width": "",
            "_view_module": "@jupyter-widgets/base",
            "_model_module_version": "1.5.0",
            "_view_count": null,
            "_view_module_version": "1.2.0",
            "_model_module": "@jupyter-widgets/controls"
          }
        },
        "0730018c15f4461bbc3a07ece7acb9f5": {
          "model_module": "@jupyter-widgets/base",
          "model_name": "LayoutModel",
          "state": {
            "_view_name": "LayoutView",
            "grid_template_rows": null,
            "right": null,
            "justify_content": null,
            "_view_module": "@jupyter-widgets/base",
            "overflow": null,
            "_model_module_version": "1.2.0",
            "_view_count": null,
            "flex_flow": null,
            "width": null,
            "min_width": null,
            "border": null,
            "align_items": null,
            "bottom": null,
            "_model_module": "@jupyter-widgets/base",
            "top": null,
            "grid_column": null,
            "overflow_y": null,
            "overflow_x": null,
            "grid_auto_flow": null,
            "grid_area": null,
            "grid_template_columns": null,
            "flex": null,
            "_model_name": "LayoutModel",
            "justify_items": null,
            "grid_row": null,
            "max_height": null,
            "align_content": null,
            "visibility": null,
            "align_self": null,
            "height": null,
            "min_height": null,
            "padding": null,
            "grid_auto_rows": null,
            "grid_gap": null,
            "max_width": null,
            "order": null,
            "_view_module_version": "1.2.0",
            "grid_template_areas": null,
            "object_position": null,
            "object_fit": null,
            "grid_auto_columns": null,
            "margin": null,
            "display": null,
            "left": null
          }
        },
        "2d7e66511dec43fda1dec2039f5112a7": {
          "model_module": "@jupyter-widgets/controls",
          "model_name": "HBoxModel",
          "state": {
            "_view_name": "HBoxView",
            "_dom_classes": [],
            "_model_name": "HBoxModel",
            "_view_module": "@jupyter-widgets/controls",
            "_model_module_version": "1.5.0",
            "_view_count": null,
            "_view_module_version": "1.5.0",
            "box_style": "",
            "layout": "IPY_MODEL_5bb5faf684a3418eb57c33da757b684d",
            "_model_module": "@jupyter-widgets/controls",
            "children": [
              "IPY_MODEL_859cc96c19134d3283ec196a7a1c46d3",
              "IPY_MODEL_8f83f896102a4215aee5e171740efa5f"
            ]
          }
        },
        "5bb5faf684a3418eb57c33da757b684d": {
          "model_module": "@jupyter-widgets/base",
          "model_name": "LayoutModel",
          "state": {
            "_view_name": "LayoutView",
            "grid_template_rows": null,
            "right": null,
            "justify_content": null,
            "_view_module": "@jupyter-widgets/base",
            "overflow": null,
            "_model_module_version": "1.2.0",
            "_view_count": null,
            "flex_flow": null,
            "width": null,
            "min_width": null,
            "border": null,
            "align_items": null,
            "bottom": null,
            "_model_module": "@jupyter-widgets/base",
            "top": null,
            "grid_column": null,
            "overflow_y": null,
            "overflow_x": null,
            "grid_auto_flow": null,
            "grid_area": null,
            "grid_template_columns": null,
            "flex": null,
            "_model_name": "LayoutModel",
            "justify_items": null,
            "grid_row": null,
            "max_height": null,
            "align_content": null,
            "visibility": null,
            "align_self": null,
            "height": null,
            "min_height": null,
            "padding": null,
            "grid_auto_rows": null,
            "grid_gap": null,
            "max_width": null,
            "order": null,
            "_view_module_version": "1.2.0",
            "grid_template_areas": null,
            "object_position": null,
            "object_fit": null,
            "grid_auto_columns": null,
            "margin": null,
            "display": null,
            "left": null
          }
        },
        "859cc96c19134d3283ec196a7a1c46d3": {
          "model_module": "@jupyter-widgets/controls",
          "model_name": "FloatProgressModel",
          "state": {
            "_view_name": "ProgressView",
            "style": "IPY_MODEL_c0664194f2ca4418ad5660011ddd666a",
            "_dom_classes": [],
            "description": "",
            "_model_name": "FloatProgressModel",
            "bar_style": "info",
            "max": 1,
            "_view_module": "@jupyter-widgets/controls",
            "_model_module_version": "1.5.0",
            "value": 1,
            "_view_count": null,
            "_view_module_version": "1.5.0",
            "orientation": "horizontal",
            "min": 0,
            "description_tooltip": null,
            "_model_module": "@jupyter-widgets/controls",
            "layout": "IPY_MODEL_fece5343794d41839d2b87b8f49efc2d"
          }
        },
        "8f83f896102a4215aee5e171740efa5f": {
          "model_module": "@jupyter-widgets/controls",
          "model_name": "HTMLModel",
          "state": {
            "_view_name": "HTMLView",
            "style": "IPY_MODEL_ffa42526d1d9440e9c00378d902f4f1a",
            "_dom_classes": [],
            "description": "",
            "_model_name": "HTMLModel",
            "placeholder": "​",
            "_view_module": "@jupyter-widgets/controls",
            "_model_module_version": "1.5.0",
            "value": " 25000/0 [00:12&lt;00:00, 3756.88 examples/s]",
            "_view_count": null,
            "_view_module_version": "1.5.0",
            "description_tooltip": null,
            "_model_module": "@jupyter-widgets/controls",
            "layout": "IPY_MODEL_74ba66c3abda4c99b8a90410e321d189"
          }
        },
        "c0664194f2ca4418ad5660011ddd666a": {
          "model_module": "@jupyter-widgets/controls",
          "model_name": "ProgressStyleModel",
          "state": {
            "_view_name": "StyleView",
            "_model_name": "ProgressStyleModel",
            "description_width": "initial",
            "_view_module": "@jupyter-widgets/base",
            "_model_module_version": "1.5.0",
            "_view_count": null,
            "_view_module_version": "1.2.0",
            "bar_color": null,
            "_model_module": "@jupyter-widgets/controls"
          }
        },
        "fece5343794d41839d2b87b8f49efc2d": {
          "model_module": "@jupyter-widgets/base",
          "model_name": "LayoutModel",
          "state": {
            "_view_name": "LayoutView",
            "grid_template_rows": null,
            "right": null,
            "justify_content": null,
            "_view_module": "@jupyter-widgets/base",
            "overflow": null,
            "_model_module_version": "1.2.0",
            "_view_count": null,
            "flex_flow": null,
            "width": null,
            "min_width": null,
            "border": null,
            "align_items": null,
            "bottom": null,
            "_model_module": "@jupyter-widgets/base",
            "top": null,
            "grid_column": null,
            "overflow_y": null,
            "overflow_x": null,
            "grid_auto_flow": null,
            "grid_area": null,
            "grid_template_columns": null,
            "flex": null,
            "_model_name": "LayoutModel",
            "justify_items": null,
            "grid_row": null,
            "max_height": null,
            "align_content": null,
            "visibility": null,
            "align_self": null,
            "height": null,
            "min_height": null,
            "padding": null,
            "grid_auto_rows": null,
            "grid_gap": null,
            "max_width": null,
            "order": null,
            "_view_module_version": "1.2.0",
            "grid_template_areas": null,
            "object_position": null,
            "object_fit": null,
            "grid_auto_columns": null,
            "margin": null,
            "display": null,
            "left": null
          }
        },
        "ffa42526d1d9440e9c00378d902f4f1a": {
          "model_module": "@jupyter-widgets/controls",
          "model_name": "DescriptionStyleModel",
          "state": {
            "_view_name": "StyleView",
            "_model_name": "DescriptionStyleModel",
            "description_width": "",
            "_view_module": "@jupyter-widgets/base",
            "_model_module_version": "1.5.0",
            "_view_count": null,
            "_view_module_version": "1.2.0",
            "_model_module": "@jupyter-widgets/controls"
          }
        },
        "74ba66c3abda4c99b8a90410e321d189": {
          "model_module": "@jupyter-widgets/base",
          "model_name": "LayoutModel",
          "state": {
            "_view_name": "LayoutView",
            "grid_template_rows": null,
            "right": null,
            "justify_content": null,
            "_view_module": "@jupyter-widgets/base",
            "overflow": null,
            "_model_module_version": "1.2.0",
            "_view_count": null,
            "flex_flow": null,
            "width": null,
            "min_width": null,
            "border": null,
            "align_items": null,
            "bottom": null,
            "_model_module": "@jupyter-widgets/base",
            "top": null,
            "grid_column": null,
            "overflow_y": null,
            "overflow_x": null,
            "grid_auto_flow": null,
            "grid_area": null,
            "grid_template_columns": null,
            "flex": null,
            "_model_name": "LayoutModel",
            "justify_items": null,
            "grid_row": null,
            "max_height": null,
            "align_content": null,
            "visibility": null,
            "align_self": null,
            "height": null,
            "min_height": null,
            "padding": null,
            "grid_auto_rows": null,
            "grid_gap": null,
            "max_width": null,
            "order": null,
            "_view_module_version": "1.2.0",
            "grid_template_areas": null,
            "object_position": null,
            "object_fit": null,
            "grid_auto_columns": null,
            "margin": null,
            "display": null,
            "left": null
          }
        },
        "060182d5de88443da0678ec5ba1e4ff5": {
          "model_module": "@jupyter-widgets/controls",
          "model_name": "HBoxModel",
          "state": {
            "_view_name": "HBoxView",
            "_dom_classes": [],
            "_model_name": "HBoxModel",
            "_view_module": "@jupyter-widgets/controls",
            "_model_module_version": "1.5.0",
            "_view_count": null,
            "_view_module_version": "1.5.0",
            "box_style": "",
            "layout": "IPY_MODEL_024e8a8e20cb48458d471f714097122f",
            "_model_module": "@jupyter-widgets/controls",
            "children": [
              "IPY_MODEL_395fdb611f314fbab206a9d425941dcf",
              "IPY_MODEL_318183b43a974c5d8fb5d5d1df03575f"
            ]
          }
        },
        "024e8a8e20cb48458d471f714097122f": {
          "model_module": "@jupyter-widgets/base",
          "model_name": "LayoutModel",
          "state": {
            "_view_name": "LayoutView",
            "grid_template_rows": null,
            "right": null,
            "justify_content": null,
            "_view_module": "@jupyter-widgets/base",
            "overflow": null,
            "_model_module_version": "1.2.0",
            "_view_count": null,
            "flex_flow": null,
            "width": null,
            "min_width": null,
            "border": null,
            "align_items": null,
            "bottom": null,
            "_model_module": "@jupyter-widgets/base",
            "top": null,
            "grid_column": null,
            "overflow_y": null,
            "overflow_x": null,
            "grid_auto_flow": null,
            "grid_area": null,
            "grid_template_columns": null,
            "flex": null,
            "_model_name": "LayoutModel",
            "justify_items": null,
            "grid_row": null,
            "max_height": null,
            "align_content": null,
            "visibility": null,
            "align_self": null,
            "height": null,
            "min_height": null,
            "padding": null,
            "grid_auto_rows": null,
            "grid_gap": null,
            "max_width": null,
            "order": null,
            "_view_module_version": "1.2.0",
            "grid_template_areas": null,
            "object_position": null,
            "object_fit": null,
            "grid_auto_columns": null,
            "margin": null,
            "display": null,
            "left": null
          }
        },
        "395fdb611f314fbab206a9d425941dcf": {
          "model_module": "@jupyter-widgets/controls",
          "model_name": "FloatProgressModel",
          "state": {
            "_view_name": "ProgressView",
            "style": "IPY_MODEL_2d0d14b092294ef08b0377c4626180f9",
            "_dom_classes": [],
            "description": " 65%",
            "_model_name": "FloatProgressModel",
            "bar_style": "danger",
            "max": 25000,
            "_view_module": "@jupyter-widgets/controls",
            "_model_module_version": "1.5.0",
            "value": 16249,
            "_view_count": null,
            "_view_module_version": "1.5.0",
            "orientation": "horizontal",
            "min": 0,
            "description_tooltip": null,
            "_model_module": "@jupyter-widgets/controls",
            "layout": "IPY_MODEL_9e6ec36768a040b0889a7bf9cc38115a"
          }
        },
        "318183b43a974c5d8fb5d5d1df03575f": {
          "model_module": "@jupyter-widgets/controls",
          "model_name": "HTMLModel",
          "state": {
            "_view_name": "HTMLView",
            "style": "IPY_MODEL_7e00cfaa99ab4f92a375f12f86a42b85",
            "_dom_classes": [],
            "description": "",
            "_model_name": "HTMLModel",
            "placeholder": "​",
            "_view_module": "@jupyter-widgets/controls",
            "_model_module_version": "1.5.0",
            "value": " 16249/25000 [00:00&lt;00:00, 162489.38 examples/s]",
            "_view_count": null,
            "_view_module_version": "1.5.0",
            "description_tooltip": null,
            "_model_module": "@jupyter-widgets/controls",
            "layout": "IPY_MODEL_679065b79b6f479cb0800b3809ca5971"
          }
        },
        "2d0d14b092294ef08b0377c4626180f9": {
          "model_module": "@jupyter-widgets/controls",
          "model_name": "ProgressStyleModel",
          "state": {
            "_view_name": "StyleView",
            "_model_name": "ProgressStyleModel",
            "description_width": "initial",
            "_view_module": "@jupyter-widgets/base",
            "_model_module_version": "1.5.0",
            "_view_count": null,
            "_view_module_version": "1.2.0",
            "bar_color": null,
            "_model_module": "@jupyter-widgets/controls"
          }
        },
        "9e6ec36768a040b0889a7bf9cc38115a": {
          "model_module": "@jupyter-widgets/base",
          "model_name": "LayoutModel",
          "state": {
            "_view_name": "LayoutView",
            "grid_template_rows": null,
            "right": null,
            "justify_content": null,
            "_view_module": "@jupyter-widgets/base",
            "overflow": null,
            "_model_module_version": "1.2.0",
            "_view_count": null,
            "flex_flow": null,
            "width": null,
            "min_width": null,
            "border": null,
            "align_items": null,
            "bottom": null,
            "_model_module": "@jupyter-widgets/base",
            "top": null,
            "grid_column": null,
            "overflow_y": null,
            "overflow_x": null,
            "grid_auto_flow": null,
            "grid_area": null,
            "grid_template_columns": null,
            "flex": null,
            "_model_name": "LayoutModel",
            "justify_items": null,
            "grid_row": null,
            "max_height": null,
            "align_content": null,
            "visibility": null,
            "align_self": null,
            "height": null,
            "min_height": null,
            "padding": null,
            "grid_auto_rows": null,
            "grid_gap": null,
            "max_width": null,
            "order": null,
            "_view_module_version": "1.2.0",
            "grid_template_areas": null,
            "object_position": null,
            "object_fit": null,
            "grid_auto_columns": null,
            "margin": null,
            "display": null,
            "left": null
          }
        },
        "7e00cfaa99ab4f92a375f12f86a42b85": {
          "model_module": "@jupyter-widgets/controls",
          "model_name": "DescriptionStyleModel",
          "state": {
            "_view_name": "StyleView",
            "_model_name": "DescriptionStyleModel",
            "description_width": "",
            "_view_module": "@jupyter-widgets/base",
            "_model_module_version": "1.5.0",
            "_view_count": null,
            "_view_module_version": "1.2.0",
            "_model_module": "@jupyter-widgets/controls"
          }
        },
        "679065b79b6f479cb0800b3809ca5971": {
          "model_module": "@jupyter-widgets/base",
          "model_name": "LayoutModel",
          "state": {
            "_view_name": "LayoutView",
            "grid_template_rows": null,
            "right": null,
            "justify_content": null,
            "_view_module": "@jupyter-widgets/base",
            "overflow": null,
            "_model_module_version": "1.2.0",
            "_view_count": null,
            "flex_flow": null,
            "width": null,
            "min_width": null,
            "border": null,
            "align_items": null,
            "bottom": null,
            "_model_module": "@jupyter-widgets/base",
            "top": null,
            "grid_column": null,
            "overflow_y": null,
            "overflow_x": null,
            "grid_auto_flow": null,
            "grid_area": null,
            "grid_template_columns": null,
            "flex": null,
            "_model_name": "LayoutModel",
            "justify_items": null,
            "grid_row": null,
            "max_height": null,
            "align_content": null,
            "visibility": null,
            "align_self": null,
            "height": null,
            "min_height": null,
            "padding": null,
            "grid_auto_rows": null,
            "grid_gap": null,
            "max_width": null,
            "order": null,
            "_view_module_version": "1.2.0",
            "grid_template_areas": null,
            "object_position": null,
            "object_fit": null,
            "grid_auto_columns": null,
            "margin": null,
            "display": null,
            "left": null
          }
        },
        "281ecb35579249dab7ab4d3f1ea136ba": {
          "model_module": "@jupyter-widgets/controls",
          "model_name": "HBoxModel",
          "state": {
            "_view_name": "HBoxView",
            "_dom_classes": [],
            "_model_name": "HBoxModel",
            "_view_module": "@jupyter-widgets/controls",
            "_model_module_version": "1.5.0",
            "_view_count": null,
            "_view_module_version": "1.5.0",
            "box_style": "",
            "layout": "IPY_MODEL_518a8fedd5c44a8cb72b3bd3ca174249",
            "_model_module": "@jupyter-widgets/controls",
            "children": [
              "IPY_MODEL_d01016086e0e4bb5bd8b65f6a99c6936",
              "IPY_MODEL_b74e4095de8142cca675a3697ad86cfb"
            ]
          }
        },
        "518a8fedd5c44a8cb72b3bd3ca174249": {
          "model_module": "@jupyter-widgets/base",
          "model_name": "LayoutModel",
          "state": {
            "_view_name": "LayoutView",
            "grid_template_rows": null,
            "right": null,
            "justify_content": null,
            "_view_module": "@jupyter-widgets/base",
            "overflow": null,
            "_model_module_version": "1.2.0",
            "_view_count": null,
            "flex_flow": null,
            "width": null,
            "min_width": null,
            "border": null,
            "align_items": null,
            "bottom": null,
            "_model_module": "@jupyter-widgets/base",
            "top": null,
            "grid_column": null,
            "overflow_y": null,
            "overflow_x": null,
            "grid_auto_flow": null,
            "grid_area": null,
            "grid_template_columns": null,
            "flex": null,
            "_model_name": "LayoutModel",
            "justify_items": null,
            "grid_row": null,
            "max_height": null,
            "align_content": null,
            "visibility": null,
            "align_self": null,
            "height": null,
            "min_height": null,
            "padding": null,
            "grid_auto_rows": null,
            "grid_gap": null,
            "max_width": null,
            "order": null,
            "_view_module_version": "1.2.0",
            "grid_template_areas": null,
            "object_position": null,
            "object_fit": null,
            "grid_auto_columns": null,
            "margin": null,
            "display": null,
            "left": null
          }
        },
        "d01016086e0e4bb5bd8b65f6a99c6936": {
          "model_module": "@jupyter-widgets/controls",
          "model_name": "FloatProgressModel",
          "state": {
            "_view_name": "ProgressView",
            "style": "IPY_MODEL_e219101b502e46beb7970f39120f6fff",
            "_dom_classes": [],
            "description": "",
            "_model_name": "FloatProgressModel",
            "bar_style": "info",
            "max": 1,
            "_view_module": "@jupyter-widgets/controls",
            "_model_module_version": "1.5.0",
            "value": 1,
            "_view_count": null,
            "_view_module_version": "1.5.0",
            "orientation": "horizontal",
            "min": 0,
            "description_tooltip": null,
            "_model_module": "@jupyter-widgets/controls",
            "layout": "IPY_MODEL_44bd3717be6c48bd821b530b883198b1"
          }
        },
        "b74e4095de8142cca675a3697ad86cfb": {
          "model_module": "@jupyter-widgets/controls",
          "model_name": "HTMLModel",
          "state": {
            "_view_name": "HTMLView",
            "style": "IPY_MODEL_4d4fb9a595b442f4b9d68091413b990e",
            "_dom_classes": [],
            "description": "",
            "_model_name": "HTMLModel",
            "placeholder": "​",
            "_view_module": "@jupyter-widgets/controls",
            "_model_module_version": "1.5.0",
            "value": " 50000/0 [00:16&lt;00:00, 3915.79 examples/s]",
            "_view_count": null,
            "_view_module_version": "1.5.0",
            "description_tooltip": null,
            "_model_module": "@jupyter-widgets/controls",
            "layout": "IPY_MODEL_33174db9b2904fe7a1379f3c07a9ac20"
          }
        },
        "e219101b502e46beb7970f39120f6fff": {
          "model_module": "@jupyter-widgets/controls",
          "model_name": "ProgressStyleModel",
          "state": {
            "_view_name": "StyleView",
            "_model_name": "ProgressStyleModel",
            "description_width": "initial",
            "_view_module": "@jupyter-widgets/base",
            "_model_module_version": "1.5.0",
            "_view_count": null,
            "_view_module_version": "1.2.0",
            "bar_color": null,
            "_model_module": "@jupyter-widgets/controls"
          }
        },
        "44bd3717be6c48bd821b530b883198b1": {
          "model_module": "@jupyter-widgets/base",
          "model_name": "LayoutModel",
          "state": {
            "_view_name": "LayoutView",
            "grid_template_rows": null,
            "right": null,
            "justify_content": null,
            "_view_module": "@jupyter-widgets/base",
            "overflow": null,
            "_model_module_version": "1.2.0",
            "_view_count": null,
            "flex_flow": null,
            "width": null,
            "min_width": null,
            "border": null,
            "align_items": null,
            "bottom": null,
            "_model_module": "@jupyter-widgets/base",
            "top": null,
            "grid_column": null,
            "overflow_y": null,
            "overflow_x": null,
            "grid_auto_flow": null,
            "grid_area": null,
            "grid_template_columns": null,
            "flex": null,
            "_model_name": "LayoutModel",
            "justify_items": null,
            "grid_row": null,
            "max_height": null,
            "align_content": null,
            "visibility": null,
            "align_self": null,
            "height": null,
            "min_height": null,
            "padding": null,
            "grid_auto_rows": null,
            "grid_gap": null,
            "max_width": null,
            "order": null,
            "_view_module_version": "1.2.0",
            "grid_template_areas": null,
            "object_position": null,
            "object_fit": null,
            "grid_auto_columns": null,
            "margin": null,
            "display": null,
            "left": null
          }
        },
        "4d4fb9a595b442f4b9d68091413b990e": {
          "model_module": "@jupyter-widgets/controls",
          "model_name": "DescriptionStyleModel",
          "state": {
            "_view_name": "StyleView",
            "_model_name": "DescriptionStyleModel",
            "description_width": "",
            "_view_module": "@jupyter-widgets/base",
            "_model_module_version": "1.5.0",
            "_view_count": null,
            "_view_module_version": "1.2.0",
            "_model_module": "@jupyter-widgets/controls"
          }
        },
        "33174db9b2904fe7a1379f3c07a9ac20": {
          "model_module": "@jupyter-widgets/base",
          "model_name": "LayoutModel",
          "state": {
            "_view_name": "LayoutView",
            "grid_template_rows": null,
            "right": null,
            "justify_content": null,
            "_view_module": "@jupyter-widgets/base",
            "overflow": null,
            "_model_module_version": "1.2.0",
            "_view_count": null,
            "flex_flow": null,
            "width": null,
            "min_width": null,
            "border": null,
            "align_items": null,
            "bottom": null,
            "_model_module": "@jupyter-widgets/base",
            "top": null,
            "grid_column": null,
            "overflow_y": null,
            "overflow_x": null,
            "grid_auto_flow": null,
            "grid_area": null,
            "grid_template_columns": null,
            "flex": null,
            "_model_name": "LayoutModel",
            "justify_items": null,
            "grid_row": null,
            "max_height": null,
            "align_content": null,
            "visibility": null,
            "align_self": null,
            "height": null,
            "min_height": null,
            "padding": null,
            "grid_auto_rows": null,
            "grid_gap": null,
            "max_width": null,
            "order": null,
            "_view_module_version": "1.2.0",
            "grid_template_areas": null,
            "object_position": null,
            "object_fit": null,
            "grid_auto_columns": null,
            "margin": null,
            "display": null,
            "left": null
          }
        },
        "ec99e9c95a0a4e5b9729b10b5d903d18": {
          "model_module": "@jupyter-widgets/controls",
          "model_name": "HBoxModel",
          "state": {
            "_view_name": "HBoxView",
            "_dom_classes": [],
            "_model_name": "HBoxModel",
            "_view_module": "@jupyter-widgets/controls",
            "_model_module_version": "1.5.0",
            "_view_count": null,
            "_view_module_version": "1.5.0",
            "box_style": "",
            "layout": "IPY_MODEL_cbf349420d8e4f879c962c55f3c3cf17",
            "_model_module": "@jupyter-widgets/controls",
            "children": [
              "IPY_MODEL_8455aecc02594dd7917d3add27bb31a1",
              "IPY_MODEL_1babb909e29641ba8e3d3bdc503ff4a2"
            ]
          }
        },
        "cbf349420d8e4f879c962c55f3c3cf17": {
          "model_module": "@jupyter-widgets/base",
          "model_name": "LayoutModel",
          "state": {
            "_view_name": "LayoutView",
            "grid_template_rows": null,
            "right": null,
            "justify_content": null,
            "_view_module": "@jupyter-widgets/base",
            "overflow": null,
            "_model_module_version": "1.2.0",
            "_view_count": null,
            "flex_flow": null,
            "width": null,
            "min_width": null,
            "border": null,
            "align_items": null,
            "bottom": null,
            "_model_module": "@jupyter-widgets/base",
            "top": null,
            "grid_column": null,
            "overflow_y": null,
            "overflow_x": null,
            "grid_auto_flow": null,
            "grid_area": null,
            "grid_template_columns": null,
            "flex": null,
            "_model_name": "LayoutModel",
            "justify_items": null,
            "grid_row": null,
            "max_height": null,
            "align_content": null,
            "visibility": null,
            "align_self": null,
            "height": null,
            "min_height": null,
            "padding": null,
            "grid_auto_rows": null,
            "grid_gap": null,
            "max_width": null,
            "order": null,
            "_view_module_version": "1.2.0",
            "grid_template_areas": null,
            "object_position": null,
            "object_fit": null,
            "grid_auto_columns": null,
            "margin": null,
            "display": null,
            "left": null
          }
        },
        "8455aecc02594dd7917d3add27bb31a1": {
          "model_module": "@jupyter-widgets/controls",
          "model_name": "FloatProgressModel",
          "state": {
            "_view_name": "ProgressView",
            "style": "IPY_MODEL_ad3f144b47654b6883b551f1afcbecd4",
            "_dom_classes": [],
            "description": " 71%",
            "_model_name": "FloatProgressModel",
            "bar_style": "danger",
            "max": 50000,
            "_view_module": "@jupyter-widgets/controls",
            "_model_module_version": "1.5.0",
            "value": 35586,
            "_view_count": null,
            "_view_module_version": "1.5.0",
            "orientation": "horizontal",
            "min": 0,
            "description_tooltip": null,
            "_model_module": "@jupyter-widgets/controls",
            "layout": "IPY_MODEL_1abb8f6c86c34c74bcaeab6c8c9d0721"
          }
        },
        "1babb909e29641ba8e3d3bdc503ff4a2": {
          "model_module": "@jupyter-widgets/controls",
          "model_name": "HTMLModel",
          "state": {
            "_view_name": "HTMLView",
            "style": "IPY_MODEL_46648426bd244967a0d29d19e4657748",
            "_dom_classes": [],
            "description": "",
            "_model_name": "HTMLModel",
            "placeholder": "​",
            "_view_module": "@jupyter-widgets/controls",
            "_model_module_version": "1.5.0",
            "value": " 35586/50000 [00:00&lt;00:00, 107170.46 examples/s]",
            "_view_count": null,
            "_view_module_version": "1.5.0",
            "description_tooltip": null,
            "_model_module": "@jupyter-widgets/controls",
            "layout": "IPY_MODEL_731ae6910c994b1c8bbcef6cf6605469"
          }
        },
        "ad3f144b47654b6883b551f1afcbecd4": {
          "model_module": "@jupyter-widgets/controls",
          "model_name": "ProgressStyleModel",
          "state": {
            "_view_name": "StyleView",
            "_model_name": "ProgressStyleModel",
            "description_width": "initial",
            "_view_module": "@jupyter-widgets/base",
            "_model_module_version": "1.5.0",
            "_view_count": null,
            "_view_module_version": "1.2.0",
            "bar_color": null,
            "_model_module": "@jupyter-widgets/controls"
          }
        },
        "1abb8f6c86c34c74bcaeab6c8c9d0721": {
          "model_module": "@jupyter-widgets/base",
          "model_name": "LayoutModel",
          "state": {
            "_view_name": "LayoutView",
            "grid_template_rows": null,
            "right": null,
            "justify_content": null,
            "_view_module": "@jupyter-widgets/base",
            "overflow": null,
            "_model_module_version": "1.2.0",
            "_view_count": null,
            "flex_flow": null,
            "width": null,
            "min_width": null,
            "border": null,
            "align_items": null,
            "bottom": null,
            "_model_module": "@jupyter-widgets/base",
            "top": null,
            "grid_column": null,
            "overflow_y": null,
            "overflow_x": null,
            "grid_auto_flow": null,
            "grid_area": null,
            "grid_template_columns": null,
            "flex": null,
            "_model_name": "LayoutModel",
            "justify_items": null,
            "grid_row": null,
            "max_height": null,
            "align_content": null,
            "visibility": null,
            "align_self": null,
            "height": null,
            "min_height": null,
            "padding": null,
            "grid_auto_rows": null,
            "grid_gap": null,
            "max_width": null,
            "order": null,
            "_view_module_version": "1.2.0",
            "grid_template_areas": null,
            "object_position": null,
            "object_fit": null,
            "grid_auto_columns": null,
            "margin": null,
            "display": null,
            "left": null
          }
        },
        "46648426bd244967a0d29d19e4657748": {
          "model_module": "@jupyter-widgets/controls",
          "model_name": "DescriptionStyleModel",
          "state": {
            "_view_name": "StyleView",
            "_model_name": "DescriptionStyleModel",
            "description_width": "",
            "_view_module": "@jupyter-widgets/base",
            "_model_module_version": "1.5.0",
            "_view_count": null,
            "_view_module_version": "1.2.0",
            "_model_module": "@jupyter-widgets/controls"
          }
        },
        "731ae6910c994b1c8bbcef6cf6605469": {
          "model_module": "@jupyter-widgets/base",
          "model_name": "LayoutModel",
          "state": {
            "_view_name": "LayoutView",
            "grid_template_rows": null,
            "right": null,
            "justify_content": null,
            "_view_module": "@jupyter-widgets/base",
            "overflow": null,
            "_model_module_version": "1.2.0",
            "_view_count": null,
            "flex_flow": null,
            "width": null,
            "min_width": null,
            "border": null,
            "align_items": null,
            "bottom": null,
            "_model_module": "@jupyter-widgets/base",
            "top": null,
            "grid_column": null,
            "overflow_y": null,
            "overflow_x": null,
            "grid_auto_flow": null,
            "grid_area": null,
            "grid_template_columns": null,
            "flex": null,
            "_model_name": "LayoutModel",
            "justify_items": null,
            "grid_row": null,
            "max_height": null,
            "align_content": null,
            "visibility": null,
            "align_self": null,
            "height": null,
            "min_height": null,
            "padding": null,
            "grid_auto_rows": null,
            "grid_gap": null,
            "max_width": null,
            "order": null,
            "_view_module_version": "1.2.0",
            "grid_template_areas": null,
            "object_position": null,
            "object_fit": null,
            "grid_auto_columns": null,
            "margin": null,
            "display": null,
            "left": null
          }
        }
      }
    },
    "accelerator": "GPU"
  },
  "cells": [
    {
      "cell_type": "markdown",
      "metadata": {
        "id": "view-in-github",
        "colab_type": "text"
      },
      "source": [
        "<a href=\"https://colab.research.google.com/github/triciat/Tensorflow-in-Practice/blob/main/Course_3_NLP/Course_3_Week_3_.ipynb\" target=\"_parent\"><img src=\"https://colab.research.google.com/assets/colab-badge.svg\" alt=\"Open In Colab\"/></a>"
      ]
    },
    {
      "cell_type": "code",
      "metadata": {
        "id": "zX4Kg8DUTKWO"
      },
      "source": [
        "#@title Licensed under the Apache License, Version 2.0 (the \"License\");\n",
        "# you may not use this file except in compliance with the License.\n",
        "# You may obtain a copy of the License at\n",
        "#\n",
        "# https://www.apache.org/licenses/LICENSE-2.0\n",
        "#\n",
        "# Unless required by applicable law or agreed to in writing, software\n",
        "# distributed under the License is distributed on an \"AS IS\" BASIS,\n",
        "# WITHOUT WARRANTIES OR CONDITIONS OF ANY KIND, either express or implied.\n",
        "# See the License for the specific language governing permissions and\n",
        "# limitations under the License."
      ],
      "execution_count": 10,
      "outputs": []
    },
    {
      "cell_type": "markdown",
      "metadata": {
        "id": "rFiCyWQ-NC5D"
      },
      "source": [
        "## Lesson 1a - Single Layer LSTM"
      ]
    },
    {
      "cell_type": "code",
      "metadata": {
        "id": "Y20Lud2ZMBhW",
        "colab": {
          "base_uri": "https://localhost:8080/"
        },
        "outputId": "8fced8b6-1abf-4154-d83f-d809b1db3969"
      },
      "source": [
        "from __future__ import absolute_import, division, print_function, unicode_literals\n",
        "\n",
        "\n",
        "import tensorflow_datasets as tfds\n",
        "import tensorflow as tf\n",
        "print(tf.__version__)"
      ],
      "execution_count": 11,
      "outputs": [
        {
          "output_type": "stream",
          "text": [
            "2.4.1\n"
          ],
          "name": "stdout"
        }
      ]
    },
    {
      "cell_type": "code",
      "metadata": {
        "id": "uAU8g7C0MPZE",
        "colab": {
          "base_uri": "https://localhost:8080/"
        },
        "outputId": "27fd3455-07ce-4e0d-b1f1-3f80c27b2fd6"
      },
      "source": [
        "import tensorflow_datasets as tfds\n",
        "import tensorflow as tf\n",
        "print(tf.__version__)"
      ],
      "execution_count": 12,
      "outputs": [
        {
          "output_type": "stream",
          "text": [
            "2.4.1\n"
          ],
          "name": "stdout"
        }
      ]
    },
    {
      "cell_type": "code",
      "metadata": {
        "id": "AW-4Vo4TMUHb",
        "colab": {
          "base_uri": "https://localhost:8080/"
        },
        "outputId": "4d95a463-a8e7-421f-fbe1-ee5c11df9f40"
      },
      "source": [
        "# Get the data\n",
        "dataset, info = tfds.load('imdb_reviews/subwords8k', with_info=True, as_supervised=True)\n",
        "train_dataset, test_dataset = dataset['train'], dataset['test']"
      ],
      "execution_count": 13,
      "outputs": [
        {
          "output_type": "stream",
          "text": [
            "WARNING:absl:TFDS datasets with text encoding are deprecated and will be removed in a future version. Instead, you should use the plain text version and tokenize the text using `tensorflow_text` (See: https://www.tensorflow.org/tutorials/tensorflow_text/intro#tfdata_example)\n"
          ],
          "name": "stderr"
        }
      ]
    },
    {
      "cell_type": "code",
      "metadata": {
        "id": "DVfhKpHsPOxq"
      },
      "source": [
        "tokenizer = info.features['text'].encoder"
      ],
      "execution_count": 14,
      "outputs": []
    },
    {
      "cell_type": "code",
      "metadata": {
        "id": "ffvRUI0_McDS"
      },
      "source": [
        "BUFFER_SIZE = 10000\n",
        "BATCH_SIZE = 64\n",
        "\n",
        "train_dataset = train_dataset.shuffle(BUFFER_SIZE)\n",
        "train_dataset = train_dataset.padded_batch(BATCH_SIZE, tf.compat.v1.data.get_output_shapes(train_dataset))\n",
        "test_dataset = test_dataset.padded_batch(BATCH_SIZE, tf.compat.v1.data.get_output_shapes(test_dataset))"
      ],
      "execution_count": 15,
      "outputs": []
    },
    {
      "cell_type": "code",
      "metadata": {
        "id": "FxQooMEkMgur"
      },
      "source": [
        "model = tf.keras.Sequential([\n",
        "    tf.keras.layers.Embedding(tokenizer.vocab_size, 64),\n",
        "    tf.keras.layers.Bidirectional(tf.keras.layers.LSTM(64)),  #Bidirectional and LSTM were implemented\n",
        "    tf.keras.layers.Dense(64, activation='relu'),\n",
        "    tf.keras.layers.Dense(1, activation='sigmoid')\n",
        "])"
      ],
      "execution_count": 16,
      "outputs": []
    },
    {
      "cell_type": "code",
      "metadata": {
        "id": "QKI5dfPgMioL",
        "colab": {
          "base_uri": "https://localhost:8080/"
        },
        "outputId": "08823684-8fb0-4eb0-d5fe-4fa003b96de1"
      },
      "source": [
        "model.summary()"
      ],
      "execution_count": 17,
      "outputs": [
        {
          "output_type": "stream",
          "text": [
            "Model: \"sequential_1\"\n",
            "_________________________________________________________________\n",
            "Layer (type)                 Output Shape              Param #   \n",
            "=================================================================\n",
            "embedding_1 (Embedding)      (None, None, 64)          523840    \n",
            "_________________________________________________________________\n",
            "bidirectional_1 (Bidirection (None, 128)               66048     \n",
            "_________________________________________________________________\n",
            "dense_2 (Dense)              (None, 64)                8256      \n",
            "_________________________________________________________________\n",
            "dense_3 (Dense)              (None, 1)                 65        \n",
            "=================================================================\n",
            "Total params: 598,209\n",
            "Trainable params: 598,209\n",
            "Non-trainable params: 0\n",
            "_________________________________________________________________\n"
          ],
          "name": "stdout"
        }
      ]
    },
    {
      "cell_type": "code",
      "metadata": {
        "id": "Uip7QOVzMoMq"
      },
      "source": [
        "model.compile(loss='binary_crossentropy', optimizer='adam', metrics=['accuracy'])"
      ],
      "execution_count": 18,
      "outputs": []
    },
    {
      "cell_type": "code",
      "metadata": {
        "id": "7mlgzaRDMtF6",
        "colab": {
          "base_uri": "https://localhost:8080/"
        },
        "outputId": "e7de6200-4676-47fc-ee0e-d3869dd4b0e5"
      },
      "source": [
        "NUM_EPOCHS = 10\n",
        "history = model.fit(train_dataset, epochs=NUM_EPOCHS, validation_data=test_dataset)"
      ],
      "execution_count": 19,
      "outputs": [
        {
          "output_type": "stream",
          "text": [
            "Epoch 1/10\n",
            "391/391 [==============================] - 67s 164ms/step - loss: 0.5979 - accuracy: 0.6557 - val_loss: 0.4316 - val_accuracy: 0.8200\n",
            "Epoch 2/10\n",
            "391/391 [==============================] - 64s 163ms/step - loss: 0.3602 - accuracy: 0.8543 - val_loss: 0.4394 - val_accuracy: 0.8116\n",
            "Epoch 3/10\n",
            "391/391 [==============================] - 64s 164ms/step - loss: 0.3155 - accuracy: 0.8774 - val_loss: 0.5939 - val_accuracy: 0.8039\n",
            "Epoch 4/10\n",
            "391/391 [==============================] - 64s 163ms/step - loss: 0.2523 - accuracy: 0.9094 - val_loss: 0.4496 - val_accuracy: 0.8445\n",
            "Epoch 5/10\n",
            "391/391 [==============================] - 64s 163ms/step - loss: 0.2099 - accuracy: 0.9213 - val_loss: 0.5912 - val_accuracy: 0.7087\n",
            "Epoch 6/10\n",
            "391/391 [==============================] - 64s 162ms/step - loss: 0.2083 - accuracy: 0.9221 - val_loss: 0.5495 - val_accuracy: 0.7897\n",
            "Epoch 7/10\n",
            "391/391 [==============================] - 64s 162ms/step - loss: 0.1223 - accuracy: 0.9577 - val_loss: 0.5852 - val_accuracy: 0.8044\n",
            "Epoch 8/10\n",
            "391/391 [==============================] - 65s 165ms/step - loss: 0.1132 - accuracy: 0.9613 - val_loss: 0.7158 - val_accuracy: 0.8068\n",
            "Epoch 9/10\n",
            "391/391 [==============================] - 64s 163ms/step - loss: 0.0739 - accuracy: 0.9784 - val_loss: 0.6996 - val_accuracy: 0.8024\n",
            "Epoch 10/10\n",
            "391/391 [==============================] - 64s 163ms/step - loss: 0.0674 - accuracy: 0.9792 - val_loss: 0.6712 - val_accuracy: 0.8134\n"
          ],
          "name": "stdout"
        }
      ]
    },
    {
      "cell_type": "code",
      "metadata": {
        "id": "Mp1Z7P9pYRSK"
      },
      "source": [
        "import matplotlib.pyplot as plt\n",
        "\n",
        "\n",
        "def plot_graphs(history, string):\n",
        "  plt.plot(history.history[string])\n",
        "  plt.plot(history.history['val_'+string])\n",
        "  plt.xlabel(\"Epochs\")\n",
        "  plt.ylabel(string)\n",
        "  plt.legend([string, 'val_'+string])\n",
        "  plt.show()"
      ],
      "execution_count": 20,
      "outputs": []
    },
    {
      "cell_type": "code",
      "metadata": {
        "id": "R_sX6ilIM515",
        "colab": {
          "base_uri": "https://localhost:8080/",
          "height": 279
        },
        "outputId": "eeac246c-ea52-452f-b0b3-5278d3201a2c"
      },
      "source": [
        "plot_graphs(history, 'accuracy')"
      ],
      "execution_count": 21,
      "outputs": [
        {
          "output_type": "display_data",
          "data": {
            "image/png": "[encoded data removed]",
            "text/plain": [
              "<Figure size 432x288 with 1 Axes>"
            ]
          },
          "metadata": {
            "tags": [],
            "needs_background": "light"
          }
        }
      ]
    },
    {
      "cell_type": "code",
      "metadata": {
        "id": "RFEXtKtqNARB",
        "colab": {
          "base_uri": "https://localhost:8080/",
          "height": 279
        },
        "outputId": "d989196b-12a5-43d4-cfa9-26fb4510b815"
      },
      "source": [
        "plot_graphs(history, 'loss')"
      ],
      "execution_count": 22,
      "outputs": [
        {
          "output_type": "display_data",
          "data": {
            "image/png": "[encoded data removed]",
            "text/plain": [
              "<Figure size 432x288 with 1 Axes>"
            ]
          },
          "metadata": {
            "tags": [],
            "needs_background": "light"
          }
        }
      ]
    },
    {
      "cell_type": "markdown",
      "metadata": {
        "id": "OtdsOm0yjQoz"
      },
      "source": [
        "# Lesson 1b -Multiple Layer LSTM"
      ]
    },
    {
      "cell_type": "code",
      "metadata": {
        "id": "QC6o-r-IjVmN",
        "colab": {
          "base_uri": "https://localhost:8080/"
        },
        "outputId": "2293f6af-4985-414d-930e-0b918299a1a0"
      },
      "source": [
        "from __future__ import absolute_import, division, print_function, unicode_literals\r\n",
        "\r\n",
        "\r\n",
        "import tensorflow_datasets as tfds\r\n",
        "import tensorflow as tf\r\n",
        "print(tf.__version__)"
      ],
      "execution_count": 50,
      "outputs": [
        {
          "output_type": "stream",
          "text": [
            "2.4.1\n"
          ],
          "name": "stdout"
        }
      ]
    },
    {
      "cell_type": "code",
      "metadata": {
        "id": "MNpGN12MjV2K",
        "colab": {
          "base_uri": "https://localhost:8080/"
        },
        "outputId": "f33ff2b6-23ea-43b2-8e28-a96bf6021610"
      },
      "source": [
        "import tensorflow_datasets as tfds\r\n",
        "import tensorflow as tf\r\n",
        "print(tf.__version__)"
      ],
      "execution_count": 51,
      "outputs": [
        {
          "output_type": "stream",
          "text": [
            "2.4.1\n"
          ],
          "name": "stdout"
        }
      ]
    },
    {
      "cell_type": "code",
      "metadata": {
        "id": "o90wR3b4jV45",
        "colab": {
          "base_uri": "https://localhost:8080/"
        },
        "outputId": "d73d7bb5-c35d-4376-845a-7feaa39e48dc"
      },
      "source": [
        "# Get the data\r\n",
        "dataset, info = tfds.load('imdb_reviews/subwords8k', with_info=True, as_supervised=True)\r\n",
        "train_dataset, test_dataset = dataset['train'], dataset['test']\r\n"
      ],
      "execution_count": 52,
      "outputs": [
        {
          "output_type": "stream",
          "text": [
            "WARNING:absl:TFDS datasets with text encoding are deprecated and will be removed in a future version. Instead, you should use the plain text version and tokenize the text using `tensorflow_text` (See: https://www.tensorflow.org/tutorials/tensorflow_text/intro#tfdata_example)\n"
          ],
          "name": "stderr"
        }
      ]
    },
    {
      "cell_type": "code",
      "metadata": {
        "id": "N6mNyORmjV7f"
      },
      "source": [
        "tokenizer = info.features['text'].encoder"
      ],
      "execution_count": 53,
      "outputs": []
    },
    {
      "cell_type": "code",
      "metadata": {
        "id": "Wg_uHr0-L1-2"
      },
      "source": [
        "BUFFER_SIZE = 10000\r\n",
        "BATCH_SIZE = 64\r\n",
        "\r\n",
        "train_dataset = train_dataset.shuffle(BUFFER_SIZE)\r\n",
        "train_dataset = train_dataset.padded_batch(BATCH_SIZE, tf.compat.v1.data.get_output_shapes(train_dataset))\r\n",
        "test_dataset = test_dataset.padded_batch(BATCH_SIZE, tf.compat.v1.data.get_output_shapes(test_dataset))"
      ],
      "execution_count": 54,
      "outputs": []
    },
    {
      "cell_type": "code",
      "metadata": {
        "id": "3j5gB3rIjWAV"
      },
      "source": [
        "model = tf.keras.Sequential([\r\n",
        "    tf.keras.layers.Embedding(tokenizer.vocab_size, 64),\r\n",
        "    tf.keras.layers.Bidirectional(tf.keras.layers.LSTM(64, return_sequences=True)),  #\"return_sequences = True\" is important\r\n",
        "    tf.keras.layers.Bidirectional(tf.keras.layers.LSTM(32)),\r\n",
        "    tf.keras.layers.Dense(64, activation='relu'),\r\n",
        "    tf.keras.layers.Dense(1, activation='sigmoid')\r\n",
        "])"
      ],
      "execution_count": 55,
      "outputs": []
    },
    {
      "cell_type": "code",
      "metadata": {
        "id": "Wz2vYTB1jWCx",
        "colab": {
          "base_uri": "https://localhost:8080/"
        },
        "outputId": "d590be93-70a0-4df8-d2b4-c8763838c5ce"
      },
      "source": [
        "model.summary()"
      ],
      "execution_count": 56,
      "outputs": [
        {
          "output_type": "stream",
          "text": [
            "Model: \"sequential_7\"\n",
            "_________________________________________________________________\n",
            "Layer (type)                 Output Shape              Param #   \n",
            "=================================================================\n",
            "embedding_7 (Embedding)      (None, None, 64)          523840    \n",
            "_________________________________________________________________\n",
            "bidirectional_5 (Bidirection (None, None, 128)         66048     \n",
            "_________________________________________________________________\n",
            "bidirectional_6 (Bidirection (None, 64)                41216     \n",
            "_________________________________________________________________\n",
            "dense_14 (Dense)             (None, 64)                4160      \n",
            "_________________________________________________________________\n",
            "dense_15 (Dense)             (None, 1)                 65        \n",
            "=================================================================\n",
            "Total params: 635,329\n",
            "Trainable params: 635,329\n",
            "Non-trainable params: 0\n",
            "_________________________________________________________________\n"
          ],
          "name": "stdout"
        }
      ]
    },
    {
      "cell_type": "code",
      "metadata": {
        "id": "WhsTu8wvjWFT"
      },
      "source": [
        "model.compile(loss='binary_crossentropy', optimizer='adam', metrics=['accuracy'])"
      ],
      "execution_count": 57,
      "outputs": []
    },
    {
      "cell_type": "code",
      "metadata": {
        "id": "VnnGKQ_rjWIB",
        "colab": {
          "base_uri": "https://localhost:8080/"
        },
        "outputId": "1e1884e1-6daa-4e07-dd48-45ab95e9bd1f"
      },
      "source": [
        "NUM_EPOCHS = 10\r\n",
        "history = model.fit(train_dataset, epochs=NUM_EPOCHS, validation_data=test_dataset)"
      ],
      "execution_count": 58,
      "outputs": [
        {
          "output_type": "stream",
          "text": [
            "Epoch 1/10\n",
            "391/391 [==============================] - 124s 305ms/step - loss: 0.6147 - accuracy: 0.6405 - val_loss: 0.6081 - val_accuracy: 0.6894\n",
            "Epoch 2/10\n",
            "391/391 [==============================] - 121s 310ms/step - loss: 0.5586 - accuracy: 0.7212 - val_loss: 0.5587 - val_accuracy: 0.7369\n",
            "Epoch 3/10\n",
            "391/391 [==============================] - 121s 310ms/step - loss: 0.4045 - accuracy: 0.8286 - val_loss: 0.4022 - val_accuracy: 0.8281\n",
            "Epoch 4/10\n",
            "391/391 [==============================] - 121s 309ms/step - loss: 0.2813 - accuracy: 0.8901 - val_loss: 0.3571 - val_accuracy: 0.8639\n",
            "Epoch 5/10\n",
            "391/391 [==============================] - 122s 310ms/step - loss: 0.1997 - accuracy: 0.9268 - val_loss: 0.3424 - val_accuracy: 0.8699\n",
            "Epoch 6/10\n",
            "391/391 [==============================] - 121s 308ms/step - loss: 0.1498 - accuracy: 0.9485 - val_loss: 0.3479 - val_accuracy: 0.8752\n",
            "Epoch 7/10\n",
            "391/391 [==============================] - 122s 310ms/step - loss: 0.1039 - accuracy: 0.9696 - val_loss: 0.4036 - val_accuracy: 0.8641\n",
            "Epoch 8/10\n",
            "391/391 [==============================] - 121s 308ms/step - loss: 0.0825 - accuracy: 0.9757 - val_loss: 0.4312 - val_accuracy: 0.8733\n",
            "Epoch 9/10\n",
            "391/391 [==============================] - 122s 311ms/step - loss: 0.0619 - accuracy: 0.9830 - val_loss: 0.4840 - val_accuracy: 0.8638\n",
            "Epoch 10/10\n",
            "391/391 [==============================] - 122s 310ms/step - loss: 0.0521 - accuracy: 0.9855 - val_loss: 0.4842 - val_accuracy: 0.8670\n"
          ],
          "name": "stdout"
        }
      ]
    },
    {
      "cell_type": "code",
      "metadata": {
        "id": "c9ZC3DOPjeZk"
      },
      "source": [
        "import matplotlib.pyplot as plt\r\n",
        "\r\n",
        "\r\n",
        "def plot_graphs(history, string):\r\n",
        "  plt.plot(history.history[string])\r\n",
        "  plt.plot(history.history['val_'+string])\r\n",
        "  plt.xlabel(\"Epochs\")\r\n",
        "  plt.ylabel(string)\r\n",
        "  plt.legend([string, 'val_'+string])\r\n",
        "  plt.show()"
      ],
      "execution_count": 59,
      "outputs": []
    },
    {
      "cell_type": "code",
      "metadata": {
        "id": "tAsGrNiWjecC",
        "colab": {
          "base_uri": "https://localhost:8080/",
          "height": 283
        },
        "outputId": "4ca76914-90b7-4f23-9fec-4a482acb5348"
      },
      "source": [
        "plot_graphs(history, 'accuracy')"
      ],
      "execution_count": 60,
      "outputs": [
        {
          "output_type": "display_data",
          "data": {
            "image/png": "[encoded data removed]",
            "text/plain": [
              "<Figure size 432x288 with 1 Axes>"
            ]
          },
          "metadata": {
            "tags": [],
            "needs_background": "light"
          }
        }
      ]
    },
    {
      "cell_type": "code",
      "metadata": {
        "id": "GxMwex8_jeek",
        "colab": {
          "base_uri": "https://localhost:8080/",
          "height": 279
        },
        "outputId": "4fc7ac12-d547-4958-8347-4419e81d3bd9"
      },
      "source": [
        "plot_graphs(history, 'loss')"
      ],
      "execution_count": 61,
      "outputs": [
        {
          "output_type": "display_data",
          "data": {
            "image/png": "[encoded data removed]",
            "text/plain": [
              "<Figure size 432x288 with 1 Axes>"
            ]
          },
          "metadata": {
            "tags": [],
            "needs_background": "light"
          }
        }
      ]
    },
    {
      "cell_type": "markdown",
      "metadata": {
        "id": "vM3KNu3MmXmK"
      },
      "source": [
        "# Lesson 1c - Multiple Layer GRU"
      ]
    },
    {
      "cell_type": "code",
      "metadata": {
        "id": "1cB78DU0mfSY",
        "colab": {
          "base_uri": "https://localhost:8080/"
        },
        "outputId": "2f4a3352-4588-44dc-fcf2-30c5ade88694"
      },
      "source": [
        "from __future__ import absolute_import, division, print_function, unicode_literals\r\n",
        "\r\n",
        "\r\n",
        "import tensorflow_datasets as tfds\r\n",
        "import tensorflow as tf\r\n",
        "print(tf.__version__)"
      ],
      "execution_count": 62,
      "outputs": [
        {
          "output_type": "stream",
          "text": [
            "2.4.1\n"
          ],
          "name": "stdout"
        }
      ]
    },
    {
      "cell_type": "code",
      "metadata": {
        "id": "KzuFIo9zmfU4",
        "colab": {
          "base_uri": "https://localhost:8080/"
        },
        "outputId": "e82bea4c-b9e8-4bb1-abf3-97fdaae4bf4f"
      },
      "source": [
        "import tensorflow_datasets as tfds\r\n",
        "import tensorflow as tf\r\n",
        "print(tf.__version__)"
      ],
      "execution_count": 63,
      "outputs": [
        {
          "output_type": "stream",
          "text": [
            "2.4.1\n"
          ],
          "name": "stdout"
        }
      ]
    },
    {
      "cell_type": "code",
      "metadata": {
        "id": "NzKnz4lsmfXA",
        "colab": {
          "base_uri": "https://localhost:8080/"
        },
        "outputId": "ca94c288-674c-4d9d-e141-187b7014b3b4"
      },
      "source": [
        "# Get the data\r\n",
        "dataset, info = tfds.load('imdb_reviews/subwords8k', with_info=True, as_supervised=True)\r\n",
        "train_dataset, test_dataset = dataset['train'], dataset['test']\r\n"
      ],
      "execution_count": 64,
      "outputs": [
        {
          "output_type": "stream",
          "text": [
            "WARNING:absl:TFDS datasets with text encoding are deprecated and will be removed in a future version. Instead, you should use the plain text version and tokenize the text using `tensorflow_text` (See: https://www.tensorflow.org/tutorials/tensorflow_text/intro#tfdata_example)\n"
          ],
          "name": "stderr"
        }
      ]
    },
    {
      "cell_type": "code",
      "metadata": {
        "id": "eStg9eE3mfaA"
      },
      "source": [
        "tokenizer = info.features['text'].encoder"
      ],
      "execution_count": 65,
      "outputs": []
    },
    {
      "cell_type": "code",
      "metadata": {
        "id": "8xuR9_I6mfcg"
      },
      "source": [
        "BUFFER_SIZE = 10000\r\n",
        "BATCH_SIZE = 64\r\n",
        "\r\n",
        "train_dataset = train_dataset.shuffle(BUFFER_SIZE)\r\n",
        "train_dataset = train_dataset.padded_batch(BATCH_SIZE, tf.compat.v1.data.get_output_shapes(train_dataset))\r\n",
        "test_dataset = test_dataset.padded_batch(BATCH_SIZE, tf.compat.v1.data.get_output_shapes(test_dataset))"
      ],
      "execution_count": 66,
      "outputs": []
    },
    {
      "cell_type": "code",
      "metadata": {
        "id": "zbumC6FMmfe4"
      },
      "source": [
        "model = tf.keras.Sequential([\r\n",
        "    tf.keras.layers.Embedding(tokenizer.vocab_size, 64),\r\n",
        "    tf.keras.layers.Conv1D(128, 5, activation='relu'),\r\n",
        "    tf.keras.layers.GlobalAveragePooling1D(),\r\n",
        "    tf.keras.layers.Dense(64, activation='relu'),\r\n",
        "    tf.keras.layers.Dense(1, activation='sigmoid')\r\n",
        "])"
      ],
      "execution_count": 67,
      "outputs": []
    },
    {
      "cell_type": "code",
      "metadata": {
        "id": "Z2hOs2obmfhU",
        "colab": {
          "base_uri": "https://localhost:8080/"
        },
        "outputId": "160a0efc-e177-4290-a0bf-4af4ecd86e8a"
      },
      "source": [
        "model.summary()"
      ],
      "execution_count": 68,
      "outputs": [
        {
          "output_type": "stream",
          "text": [
            "Model: \"sequential_8\"\n",
            "_________________________________________________________________\n",
            "Layer (type)                 Output Shape              Param #   \n",
            "=================================================================\n",
            "embedding_8 (Embedding)      (None, None, 64)          523840    \n",
            "_________________________________________________________________\n",
            "conv1d_2 (Conv1D)            (None, None, 128)         41088     \n",
            "_________________________________________________________________\n",
            "global_average_pooling1d_1 ( (None, 128)               0         \n",
            "_________________________________________________________________\n",
            "dense_16 (Dense)             (None, 64)                8256      \n",
            "_________________________________________________________________\n",
            "dense_17 (Dense)             (None, 1)                 65        \n",
            "=================================================================\n",
            "Total params: 573,249\n",
            "Trainable params: 573,249\n",
            "Non-trainable params: 0\n",
            "_________________________________________________________________\n"
          ],
          "name": "stdout"
        }
      ]
    },
    {
      "cell_type": "code",
      "metadata": {
        "id": "AJuR_pfdmfjj"
      },
      "source": [
        "model.compile(loss='binary_crossentropy', optimizer='adam', metrics=['accuracy'])"
      ],
      "execution_count": 35,
      "outputs": []
    },
    {
      "cell_type": "code",
      "metadata": {
        "id": "kY8muAbqmflr",
        "colab": {
          "base_uri": "https://localhost:8080/",
          "height": 325
        },
        "outputId": "e3b80350-cdbf-4e22-b4e6-004f6fd35736"
      },
      "source": [
        "NUM_EPOCHS = 10\r\n",
        "history = model.fit(train_dataset, epochs=NUM_EPOCHS, validation_data=test_dataset)"
      ],
      "execution_count": 69,
      "outputs": [
        {
          "output_type": "error",
          "ename": "RuntimeError",
          "evalue": "ignored",
          "traceback": [
            "\u001b[0;31m---------------------------------------------------------------------------\u001b[0m",
            "\u001b[0;31mRuntimeError\u001b[0m                              Traceback (most recent call last)",
            "\u001b[0;32m<ipython-input-69-ab5dfd33bc63>\u001b[0m in \u001b[0;36m<module>\u001b[0;34m()\u001b[0m\n\u001b[1;32m      1\u001b[0m \u001b[0mNUM_EPOCHS\u001b[0m \u001b[0;34m=\u001b[0m \u001b[0;36m10\u001b[0m\u001b[0;34m\u001b[0m\u001b[0;34m\u001b[0m\u001b[0m\n\u001b[0;32m----> 2\u001b[0;31m \u001b[0mhistory\u001b[0m \u001b[0;34m=\u001b[0m \u001b[0mmodel\u001b[0m\u001b[0;34m.\u001b[0m\u001b[0mfit\u001b[0m\u001b[0;34m(\u001b[0m\u001b[0mtrain_dataset\u001b[0m\u001b[0;34m,\u001b[0m \u001b[0mepochs\u001b[0m\u001b[0;34m=\u001b[0m\u001b[0mNUM_EPOCHS\u001b[0m\u001b[0;34m,\u001b[0m \u001b[0mvalidation_data\u001b[0m\u001b[0;34m=\u001b[0m\u001b[0mtest_dataset\u001b[0m\u001b[0;34m)\u001b[0m\u001b[0;34m\u001b[0m\u001b[0;34m\u001b[0m\u001b[0m\n\u001b[0m",
            "\u001b[0;32m/usr/local/lib/python3.7/dist-packages/tensorflow/python/keras/engine/training.py\u001b[0m in \u001b[0;36mfit\u001b[0;34m(self, x, y, batch_size, epochs, verbose, callbacks, validation_split, validation_data, shuffle, class_weight, sample_weight, initial_epoch, steps_per_epoch, validation_steps, validation_batch_size, validation_freq, max_queue_size, workers, use_multiprocessing)\u001b[0m\n\u001b[1;32m   1030\u001b[0m     \u001b[0;31m# Legacy graph support is contained in `training_v1.Model`.\u001b[0m\u001b[0;34m\u001b[0m\u001b[0;34m\u001b[0m\u001b[0;34m\u001b[0m\u001b[0m\n\u001b[1;32m   1031\u001b[0m     \u001b[0mversion_utils\u001b[0m\u001b[0;34m.\u001b[0m\u001b[0mdisallow_legacy_graph\u001b[0m\u001b[0;34m(\u001b[0m\u001b[0;34m'Model'\u001b[0m\u001b[0;34m,\u001b[0m \u001b[0;34m'fit'\u001b[0m\u001b[0;34m)\u001b[0m\u001b[0;34m\u001b[0m\u001b[0;34m\u001b[0m\u001b[0m\n\u001b[0;32m-> 1032\u001b[0;31m     \u001b[0mself\u001b[0m\u001b[0;34m.\u001b[0m\u001b[0m_assert_compile_was_called\u001b[0m\u001b[0;34m(\u001b[0m\u001b[0;34m)\u001b[0m\u001b[0;34m\u001b[0m\u001b[0;34m\u001b[0m\u001b[0m\n\u001b[0m\u001b[1;32m   1033\u001b[0m     \u001b[0mself\u001b[0m\u001b[0;34m.\u001b[0m\u001b[0m_check_call_args\u001b[0m\u001b[0;34m(\u001b[0m\u001b[0;34m'fit'\u001b[0m\u001b[0;34m)\u001b[0m\u001b[0;34m\u001b[0m\u001b[0;34m\u001b[0m\u001b[0m\n\u001b[1;32m   1034\u001b[0m     \u001b[0m_disallow_inside_tf_function\u001b[0m\u001b[0;34m(\u001b[0m\u001b[0;34m'fit'\u001b[0m\u001b[0;34m)\u001b[0m\u001b[0;34m\u001b[0m\u001b[0;34m\u001b[0m\u001b[0m\n",
            "\u001b[0;32m/usr/local/lib/python3.7/dist-packages/tensorflow/python/keras/engine/training.py\u001b[0m in \u001b[0;36m_assert_compile_was_called\u001b[0;34m(self)\u001b[0m\n\u001b[1;32m   2590\u001b[0m     \u001b[0;31m# (i.e. whether the model is built and its inputs/outputs are set).\u001b[0m\u001b[0;34m\u001b[0m\u001b[0;34m\u001b[0m\u001b[0;34m\u001b[0m\u001b[0m\n\u001b[1;32m   2591\u001b[0m     \u001b[0;32mif\u001b[0m \u001b[0;32mnot\u001b[0m \u001b[0mself\u001b[0m\u001b[0;34m.\u001b[0m\u001b[0m_is_compiled\u001b[0m\u001b[0;34m:\u001b[0m\u001b[0;34m\u001b[0m\u001b[0;34m\u001b[0m\u001b[0m\n\u001b[0;32m-> 2592\u001b[0;31m       raise RuntimeError('You must compile your model before '\n\u001b[0m\u001b[1;32m   2593\u001b[0m                          \u001b[0;34m'training/testing. '\u001b[0m\u001b[0;34m\u001b[0m\u001b[0;34m\u001b[0m\u001b[0m\n\u001b[1;32m   2594\u001b[0m                          'Use `model.compile(optimizer, loss)`.')\n",
            "\u001b[0;31mRuntimeError\u001b[0m: You must compile your model before training/testing. Use `model.compile(optimizer, loss)`."
          ]
        }
      ]
    },
    {
      "cell_type": "code",
      "metadata": {
        "id": "P6OUGzDjmfnk"
      },
      "source": [
        "import matplotlib.pyplot as plt\r\n",
        "\r\n",
        "\r\n",
        "def plot_graphs(history, string):\r\n",
        "  plt.plot(history.history[string])\r\n",
        "  plt.plot(history.history['val_'+string])\r\n",
        "  plt.xlabel(\"Epochs\")\r\n",
        "  plt.ylabel(string)\r\n",
        "  plt.legend([string, 'val_'+string])\r\n",
        "  plt.show()"
      ],
      "execution_count": null,
      "outputs": []
    },
    {
      "cell_type": "code",
      "metadata": {
        "id": "guBb-TvkmfqJ"
      },
      "source": [
        "plot_graphs(history, 'accuracy')"
      ],
      "execution_count": null,
      "outputs": []
    },
    {
      "cell_type": "code",
      "metadata": {
        "id": "6T6xbgULmpQq"
      },
      "source": [
        "plot_graphs(history, 'loss')"
      ],
      "execution_count": null,
      "outputs": []
    },
    {
      "cell_type": "markdown",
      "metadata": {
        "id": "FpuzQMX6nfWI"
      },
      "source": [
        "# Lesson 2d - IMDB Reviews with GRU (and optional LSTM and Conv1D)"
      ]
    },
    {
      "cell_type": "code",
      "metadata": {
        "id": "-MvLfPeknmWB",
        "colab": {
          "base_uri": "https://localhost:8080/"
        },
        "outputId": "73c1bee0-4429-42c1-eba2-1829eed7034f"
      },
      "source": [
        "import tensorflow as tf\r\n",
        "print(tf.__version__)\r\n",
        "\r\n",
        "# !pip install -q tensorflow-datasets"
      ],
      "execution_count": 37,
      "outputs": [
        {
          "output_type": "stream",
          "text": [
            "2.4.1\n"
          ],
          "name": "stdout"
        }
      ]
    },
    {
      "cell_type": "code",
      "metadata": {
        "id": "KGDMPLaWnmYv",
        "colab": {
          "base_uri": "https://localhost:8080/",
          "height": 347,
          "referenced_widgets": [
            "3c9c211af62c49148b84aa76549cba50",
            "d855ed71e5384466b74c385280a1c4f7",
            "f6d2f7c9a0c84bc7942caaf74928d34b",
            "1b60f7c0c07b443383ada587ba6b9cad",
            "635127d9ba8d4e79a19cca66ec53a2d6",
            "3c5433b360a14185ab202c3a750f4246",
            "ec7e75acadcf41f89312575f135645d2",
            "dd7ff78287d343d2894640a6a3e0a8f8",
            "dd010a14f18348658ea5c47649d93fcf",
            "e69413800185412d86640742a96303b1",
            "e91b921c6c354fa4bfddeab417580ad6",
            "7ae2523683964e5e99d3a9c79aa6b9f1",
            "83b9a88f65c84144b3f69ee2349ab623",
            "22382a4e269d45a091f577989f1ab811",
            "568f3d14c7824a2c9f50b6392b409d68",
            "b327017fda444ae89a3fa5305b22e52c",
            "db40b5687ee045b48294060618421266",
            "ff2ed9ba7309427cba9dd8aa821045fa",
            "d6896c87428b45d7b20287cdc4a648ac",
            "b2b7f937f1774cd7a2f8f2d856bcaf22",
            "fd93524cebb3419887bb89c60ee27831",
            "ee4824a7298c438aa51c1e260d28aff2",
            "b673deaba1584808bda88bcd0882f1e7",
            "053012aeb0af49dbbcd38dfdeee287d3",
            "4da9b069608d4b5e97c10676fa9dc498",
            "4a8e886044984c7baf4273b39185f482",
            "bf8ad41ea41f4788bc54ba08155e62b7",
            "8c45d049ce844c4dbf9028ff39aaabf1",
            "adb25cf0dc1d46ad880aba7a3d83211e",
            "744e899922914b798de3c5277329109a",
            "bad3c69f37af44d78372e79d8cfe4024",
            "0730018c15f4461bbc3a07ece7acb9f5",
            "2d7e66511dec43fda1dec2039f5112a7",
            "5bb5faf684a3418eb57c33da757b684d",
            "859cc96c19134d3283ec196a7a1c46d3",
            "8f83f896102a4215aee5e171740efa5f",
            "c0664194f2ca4418ad5660011ddd666a",
            "fece5343794d41839d2b87b8f49efc2d",
            "ffa42526d1d9440e9c00378d902f4f1a",
            "74ba66c3abda4c99b8a90410e321d189",
            "060182d5de88443da0678ec5ba1e4ff5",
            "024e8a8e20cb48458d471f714097122f",
            "395fdb611f314fbab206a9d425941dcf",
            "318183b43a974c5d8fb5d5d1df03575f",
            "2d0d14b092294ef08b0377c4626180f9",
            "9e6ec36768a040b0889a7bf9cc38115a",
            "7e00cfaa99ab4f92a375f12f86a42b85",
            "679065b79b6f479cb0800b3809ca5971",
            "281ecb35579249dab7ab4d3f1ea136ba",
            "518a8fedd5c44a8cb72b3bd3ca174249",
            "d01016086e0e4bb5bd8b65f6a99c6936",
            "b74e4095de8142cca675a3697ad86cfb",
            "e219101b502e46beb7970f39120f6fff",
            "44bd3717be6c48bd821b530b883198b1",
            "4d4fb9a595b442f4b9d68091413b990e",
            "33174db9b2904fe7a1379f3c07a9ac20",
            "ec99e9c95a0a4e5b9729b10b5d903d18",
            "cbf349420d8e4f879c962c55f3c3cf17",
            "8455aecc02594dd7917d3add27bb31a1",
            "1babb909e29641ba8e3d3bdc503ff4a2",
            "ad3f144b47654b6883b551f1afcbecd4",
            "1abb8f6c86c34c74bcaeab6c8c9d0721",
            "46648426bd244967a0d29d19e4657748",
            "731ae6910c994b1c8bbcef6cf6605469"
          ]
        },
        "outputId": "b4091776-064f-4289-aad2-310a0dad0653"
      },
      "source": [
        "import tensorflow_datasets as tfds\r\n",
        "imdb, info = tfds.load(\"imdb_reviews\", with_info=True, as_supervised=True)\r\n"
      ],
      "execution_count": 38,
      "outputs": [
        {
          "output_type": "stream",
          "text": [
            "\u001b[1mDownloading and preparing dataset imdb_reviews/plain_text/1.0.0 (download: 80.23 MiB, generated: Unknown size, total: 80.23 MiB) to /root/tensorflow_datasets/imdb_reviews/plain_text/1.0.0...\u001b[0m\n"
          ],
          "name": "stdout"
        },
        {
          "output_type": "display_data",
          "data": {
            "application/vnd.jupyter.widget-view+json": {
              "model_id": "3c9c211af62c49148b84aa76549cba50",
              "version_minor": 0,
              "version_major": 2
            },
            "text/plain": [
              "HBox(children=(FloatProgress(value=1.0, bar_style='info', description='Dl Completed...', max=1.0, style=Progre…"
            ]
          },
          "metadata": {
            "tags": []
          }
        },
        {
          "output_type": "display_data",
          "data": {
            "application/vnd.jupyter.widget-view+json": {
              "model_id": "dd010a14f18348658ea5c47649d93fcf",
              "version_minor": 0,
              "version_major": 2
            },
            "text/plain": [
              "HBox(children=(FloatProgress(value=1.0, bar_style='info', description='Dl Size...', max=1.0, style=ProgressSty…"
            ]
          },
          "metadata": {
            "tags": []
          }
        },
        {
          "output_type": "stream",
          "text": [
            "\n",
            "\n",
            "\n",
            "\n"
          ],
          "name": "stdout"
        },
        {
          "output_type": "display_data",
          "data": {
            "application/vnd.jupyter.widget-view+json": {
              "model_id": "db40b5687ee045b48294060618421266",
              "version_minor": 0,
              "version_major": 2
            },
            "text/plain": [
              "HBox(children=(FloatProgress(value=1.0, bar_style='info', max=1.0), HTML(value='')))"
            ]
          },
          "metadata": {
            "tags": []
          }
        },
        {
          "output_type": "stream",
          "text": [
            "\rShuffling and writing examples to /root/tensorflow_datasets/imdb_reviews/plain_text/1.0.0.incomplete75EVG5/imdb_reviews-train.tfrecord\n"
          ],
          "name": "stdout"
        },
        {
          "output_type": "display_data",
          "data": {
            "application/vnd.jupyter.widget-view+json": {
              "model_id": "4da9b069608d4b5e97c10676fa9dc498",
              "version_minor": 0,
              "version_major": 2
            },
            "text/plain": [
              "HBox(children=(FloatProgress(value=0.0, max=25000.0), HTML(value='')))"
            ]
          },
          "metadata": {
            "tags": []
          }
        },
        {
          "output_type": "stream",
          "text": [
            "\r"
          ],
          "name": "stdout"
        },
        {
          "output_type": "display_data",
          "data": {
            "application/vnd.jupyter.widget-view+json": {
              "model_id": "2d7e66511dec43fda1dec2039f5112a7",
              "version_minor": 0,
              "version_major": 2
            },
            "text/plain": [
              "HBox(children=(FloatProgress(value=1.0, bar_style='info', max=1.0), HTML(value='')))"
            ]
          },
          "metadata": {
            "tags": []
          }
        },
        {
          "output_type": "stream",
          "text": [
            "\rShuffling and writing examples to /root/tensorflow_datasets/imdb_reviews/plain_text/1.0.0.incomplete75EVG5/imdb_reviews-test.tfrecord\n"
          ],
          "name": "stdout"
        },
        {
          "output_type": "display_data",
          "data": {
            "application/vnd.jupyter.widget-view+json": {
              "model_id": "060182d5de88443da0678ec5ba1e4ff5",
              "version_minor": 0,
              "version_major": 2
            },
            "text/plain": [
              "HBox(children=(FloatProgress(value=0.0, max=25000.0), HTML(value='')))"
            ]
          },
          "metadata": {
            "tags": []
          }
        },
        {
          "output_type": "stream",
          "text": [
            "\r"
          ],
          "name": "stdout"
        },
        {
          "output_type": "display_data",
          "data": {
            "application/vnd.jupyter.widget-view+json": {
              "model_id": "281ecb35579249dab7ab4d3f1ea136ba",
              "version_minor": 0,
              "version_major": 2
            },
            "text/plain": [
              "HBox(children=(FloatProgress(value=1.0, bar_style='info', max=1.0), HTML(value='')))"
            ]
          },
          "metadata": {
            "tags": []
          }
        },
        {
          "output_type": "stream",
          "text": [
            "\rShuffling and writing examples to /root/tensorflow_datasets/imdb_reviews/plain_text/1.0.0.incomplete75EVG5/imdb_reviews-unsupervised.tfrecord\n"
          ],
          "name": "stdout"
        },
        {
          "output_type": "display_data",
          "data": {
            "application/vnd.jupyter.widget-view+json": {
              "model_id": "ec99e9c95a0a4e5b9729b10b5d903d18",
              "version_minor": 0,
              "version_major": 2
            },
            "text/plain": [
              "HBox(children=(FloatProgress(value=0.0, max=50000.0), HTML(value='')))"
            ]
          },
          "metadata": {
            "tags": []
          }
        },
        {
          "output_type": "stream",
          "text": [
            "WARNING:absl:Dataset is using deprecated text encoder API which will be removed soon. Please use the plain_text version of the dataset and migrate to `tensorflow_text`.\n"
          ],
          "name": "stderr"
        },
        {
          "output_type": "stream",
          "text": [
            "\u001b[1mDataset imdb_reviews downloaded and prepared to /root/tensorflow_datasets/imdb_reviews/plain_text/1.0.0. Subsequent calls will reuse this data.\u001b[0m\n",
            "\r"
          ],
          "name": "stdout"
        }
      ]
    },
    {
      "cell_type": "code",
      "metadata": {
        "id": "Jw9noCysnmbN"
      },
      "source": [
        "import numpy as np\r\n",
        "\r\n",
        "train_data, test_data = imdb['train'], imdb['test']\r\n",
        "\r\n",
        "training_sentences = []\r\n",
        "training_labels = []\r\n",
        "\r\n",
        "testing_sentences = []\r\n",
        "testing_labels = []\r\n",
        "\r\n",
        "# str(s.tonumpy()) is needed in Python3 instead of just s.numpy()\r\n",
        "for s,l in train_data:\r\n",
        "  training_sentences.append(str(s.numpy()))\r\n",
        "  training_labels.append(l.numpy())\r\n",
        "  \r\n",
        "for s,l in test_data:\r\n",
        "  testing_sentences.append(str(s.numpy()))\r\n",
        "  testing_labels.append(l.numpy())\r\n",
        "  \r\n",
        "training_labels_final = np.array(training_labels)\r\n",
        "testing_labels_final = np.array(testing_labels)\r\n"
      ],
      "execution_count": 39,
      "outputs": []
    },
    {
      "cell_type": "code",
      "metadata": {
        "id": "2Fr8VEIKnmdp"
      },
      "source": [
        "vocab_size = 10000\r\n",
        "embedding_dim = 16\r\n",
        "max_length = 120\r\n",
        "trunc_type='post'\r\n",
        "oov_tok = \"<OOV>\"\r\n",
        "\r\n",
        "\r\n",
        "from tensorflow.keras.preprocessing.text import Tokenizer\r\n",
        "from tensorflow.keras.preprocessing.sequence import pad_sequences\r\n",
        "\r\n",
        "tokenizer = Tokenizer(num_words = vocab_size, oov_token=oov_tok)\r\n",
        "tokenizer.fit_on_texts(training_sentences)\r\n",
        "word_index = tokenizer.word_index\r\n",
        "sequences = tokenizer.texts_to_sequences(training_sentences)\r\n",
        "padded = pad_sequences(sequences,maxlen=max_length, truncating=trunc_type)\r\n",
        "\r\n",
        "testing_sequences = tokenizer.texts_to_sequences(testing_sentences)\r\n",
        "testing_padded = pad_sequences(testing_sequences,maxlen=max_length)\r\n"
      ],
      "execution_count": 40,
      "outputs": []
    },
    {
      "cell_type": "code",
      "metadata": {
        "id": "o5CxXeaBnmgH",
        "colab": {
          "base_uri": "https://localhost:8080/"
        },
        "outputId": "e18de0ff-339f-42c1-aee7-f6189b2948f6"
      },
      "source": [
        "reverse_word_index = dict([(value, key) for (key, value) in word_index.items()])\r\n",
        "\r\n",
        "def decode_review(text):\r\n",
        "    return ' '.join([reverse_word_index.get(i, '?') for i in text])\r\n",
        "\r\n",
        "print(decode_review(padded[1]))\r\n",
        "print(training_sentences[1])"
      ],
      "execution_count": 41,
      "outputs": [
        {
          "output_type": "stream",
          "text": [
            "? ? ? ? ? ? ? b'i have been known to fall asleep during films but this is usually due to a combination of things including really tired being warm and comfortable on the <OOV> and having just eaten a lot however on this occasion i fell asleep because the film was rubbish the plot development was constant constantly slow and boring things seemed to happen but with no explanation of what was causing them or why i admit i may have missed part of the film but i watched the majority of it and everything just seemed to happen of its own <OOV> without any real concern for anything else i cant recommend this film at all '\n",
            "b'I have been known to fall asleep during films, but this is usually due to a combination of things including, really tired, being warm and comfortable on the sette and having just eaten a lot. However on this occasion I fell asleep because the film was rubbish. The plot development was constant. Constantly slow and boring. Things seemed to happen, but with no explanation of what was causing them or why. I admit, I may have missed part of the film, but i watched the majority of it and everything just seemed to happen of its own accord without any real concern for anything else. I cant recommend this film at all.'\n"
          ],
          "name": "stdout"
        }
      ]
    },
    {
      "cell_type": "code",
      "metadata": {
        "id": "QToABfeInmie",
        "colab": {
          "base_uri": "https://localhost:8080/"
        },
        "outputId": "df91e653-9f9d-4abe-aa39-624f59dbc58e"
      },
      "source": [
        "model = tf.keras.Sequential([\r\n",
        "    tf.keras.layers.Embedding(vocab_size, embedding_dim, input_length=max_length),\r\n",
        "    tf.keras.layers.Bidirectional(tf.keras.layers.GRU(32)),\r\n",
        "    tf.keras.layers.Dense(6, activation='relu'),\r\n",
        "    tf.keras.layers.Dense(1, activation='sigmoid')\r\n",
        "])\r\n",
        "model.compile(loss='binary_crossentropy',optimizer='adam',metrics=['accuracy'])\r\n",
        "model.summary()\r\n"
      ],
      "execution_count": 42,
      "outputs": [
        {
          "output_type": "stream",
          "text": [
            "Model: \"sequential_3\"\n",
            "_________________________________________________________________\n",
            "Layer (type)                 Output Shape              Param #   \n",
            "=================================================================\n",
            "embedding_3 (Embedding)      (None, 120, 16)           160000    \n",
            "_________________________________________________________________\n",
            "bidirectional_2 (Bidirection (None, 64)                9600      \n",
            "_________________________________________________________________\n",
            "dense_6 (Dense)              (None, 6)                 390       \n",
            "_________________________________________________________________\n",
            "dense_7 (Dense)              (None, 1)                 7         \n",
            "=================================================================\n",
            "Total params: 169,997\n",
            "Trainable params: 169,997\n",
            "Non-trainable params: 0\n",
            "_________________________________________________________________\n"
          ],
          "name": "stdout"
        }
      ]
    },
    {
      "cell_type": "code",
      "metadata": {
        "id": "-O0FBJdrnmlA",
        "colab": {
          "base_uri": "https://localhost:8080/"
        },
        "outputId": "7b30db66-9718-4d4b-9c9a-0bae0f655e2f"
      },
      "source": [
        "num_epochs = 50\r\n",
        "history = model.fit(padded, training_labels_final, epochs=num_epochs, validation_data=(testing_padded, testing_labels_final))"
      ],
      "execution_count": 43,
      "outputs": [
        {
          "output_type": "stream",
          "text": [
            "Epoch 1/50\n",
            "782/782 [==============================] - 15s 16ms/step - loss: 0.6232 - accuracy: 0.5979 - val_loss: 0.3497 - val_accuracy: 0.8489\n",
            "Epoch 2/50\n",
            "782/782 [==============================] - 12s 16ms/step - loss: 0.3008 - accuracy: 0.8770 - val_loss: 0.3493 - val_accuracy: 0.8470\n",
            "Epoch 3/50\n",
            "782/782 [==============================] - 12s 16ms/step - loss: 0.2181 - accuracy: 0.9186 - val_loss: 0.4029 - val_accuracy: 0.8351\n",
            "Epoch 4/50\n",
            "782/782 [==============================] - 12s 16ms/step - loss: 0.1549 - accuracy: 0.9454 - val_loss: 0.5198 - val_accuracy: 0.8142\n",
            "Epoch 5/50\n",
            "782/782 [==============================] - 12s 16ms/step - loss: 0.1105 - accuracy: 0.9619 - val_loss: 0.5733 - val_accuracy: 0.8300\n",
            "Epoch 6/50\n",
            "782/782 [==============================] - 12s 16ms/step - loss: 0.0666 - accuracy: 0.9787 - val_loss: 0.6651 - val_accuracy: 0.8196\n",
            "Epoch 7/50\n",
            "782/782 [==============================] - 12s 16ms/step - loss: 0.0440 - accuracy: 0.9870 - val_loss: 0.7386 - val_accuracy: 0.8209\n",
            "Epoch 8/50\n",
            "782/782 [==============================] - 12s 16ms/step - loss: 0.0300 - accuracy: 0.9902 - val_loss: 0.8382 - val_accuracy: 0.8115\n",
            "Epoch 9/50\n",
            "782/782 [==============================] - 12s 16ms/step - loss: 0.0225 - accuracy: 0.9929 - val_loss: 0.9914 - val_accuracy: 0.8143\n",
            "Epoch 10/50\n",
            "782/782 [==============================] - 12s 16ms/step - loss: 0.0160 - accuracy: 0.9946 - val_loss: 0.9385 - val_accuracy: 0.8159\n",
            "Epoch 11/50\n",
            "782/782 [==============================] - 13s 17ms/step - loss: 0.0201 - accuracy: 0.9935 - val_loss: 1.0687 - val_accuracy: 0.8161\n",
            "Epoch 12/50\n",
            "782/782 [==============================] - 13s 16ms/step - loss: 0.0099 - accuracy: 0.9963 - val_loss: 1.1658 - val_accuracy: 0.8150\n",
            "Epoch 13/50\n",
            "782/782 [==============================] - 13s 16ms/step - loss: 0.0122 - accuracy: 0.9956 - val_loss: 1.1901 - val_accuracy: 0.8138\n",
            "Epoch 14/50\n",
            "782/782 [==============================] - 12s 16ms/step - loss: 0.0079 - accuracy: 0.9974 - val_loss: 1.2443 - val_accuracy: 0.8144\n",
            "Epoch 15/50\n",
            "782/782 [==============================] - 12s 16ms/step - loss: 0.0040 - accuracy: 0.9990 - val_loss: 1.2270 - val_accuracy: 0.8170\n",
            "Epoch 16/50\n",
            "782/782 [==============================] - 12s 16ms/step - loss: 0.0074 - accuracy: 0.9972 - val_loss: 1.2846 - val_accuracy: 0.8122\n",
            "Epoch 17/50\n",
            "782/782 [==============================] - 12s 16ms/step - loss: 0.0072 - accuracy: 0.9976 - val_loss: 1.3719 - val_accuracy: 0.8112\n",
            "Epoch 18/50\n",
            "782/782 [==============================] - 12s 16ms/step - loss: 0.0033 - accuracy: 0.9992 - val_loss: 1.3165 - val_accuracy: 0.8116\n",
            "Epoch 19/50\n",
            "782/782 [==============================] - 12s 16ms/step - loss: 0.0065 - accuracy: 0.9980 - val_loss: 1.3526 - val_accuracy: 0.8077\n",
            "Epoch 20/50\n",
            "782/782 [==============================] - 12s 16ms/step - loss: 0.0036 - accuracy: 0.9991 - val_loss: 1.4702 - val_accuracy: 0.8084\n",
            "Epoch 21/50\n",
            "782/782 [==============================] - 12s 16ms/step - loss: 0.0047 - accuracy: 0.9983 - val_loss: 1.3902 - val_accuracy: 0.8070\n",
            "Epoch 22/50\n",
            "782/782 [==============================] - 12s 16ms/step - loss: 0.0024 - accuracy: 0.9992 - val_loss: 1.5047 - val_accuracy: 0.8124\n",
            "Epoch 23/50\n",
            "782/782 [==============================] - 12s 16ms/step - loss: 0.0059 - accuracy: 0.9982 - val_loss: 1.5241 - val_accuracy: 0.8129\n",
            "Epoch 24/50\n",
            "782/782 [==============================] - 12s 16ms/step - loss: 0.0031 - accuracy: 0.9988 - val_loss: 1.4242 - val_accuracy: 0.8124\n",
            "Epoch 25/50\n",
            "782/782 [==============================] - 12s 16ms/step - loss: 0.0038 - accuracy: 0.9985 - val_loss: 1.5705 - val_accuracy: 0.8070\n",
            "Epoch 26/50\n",
            "782/782 [==============================] - 12s 16ms/step - loss: 0.0065 - accuracy: 0.9979 - val_loss: 1.4888 - val_accuracy: 0.8116\n",
            "Epoch 27/50\n",
            "782/782 [==============================] - 12s 16ms/step - loss: 0.0017 - accuracy: 0.9995 - val_loss: 1.6002 - val_accuracy: 0.8126\n",
            "Epoch 28/50\n",
            "782/782 [==============================] - 12s 16ms/step - loss: 9.8200e-05 - accuracy: 1.0000 - val_loss: 1.7027 - val_accuracy: 0.8137\n",
            "Epoch 29/50\n",
            "782/782 [==============================] - 12s 16ms/step - loss: 3.1792e-05 - accuracy: 1.0000 - val_loss: 1.7450 - val_accuracy: 0.8140\n",
            "Epoch 30/50\n",
            "782/782 [==============================] - 12s 16ms/step - loss: 2.3488e-05 - accuracy: 1.0000 - val_loss: 1.7996 - val_accuracy: 0.8144\n",
            "Epoch 31/50\n",
            "782/782 [==============================] - 12s 16ms/step - loss: 1.4900e-05 - accuracy: 1.0000 - val_loss: 1.8563 - val_accuracy: 0.8145\n",
            "Epoch 32/50\n",
            "782/782 [==============================] - 12s 16ms/step - loss: 1.0473e-05 - accuracy: 1.0000 - val_loss: 1.9138 - val_accuracy: 0.8150\n",
            "Epoch 33/50\n",
            "782/782 [==============================] - 12s 16ms/step - loss: 7.4474e-06 - accuracy: 1.0000 - val_loss: 1.9747 - val_accuracy: 0.8151\n",
            "Epoch 34/50\n",
            "782/782 [==============================] - 12s 16ms/step - loss: 4.7468e-06 - accuracy: 1.0000 - val_loss: 2.0399 - val_accuracy: 0.8154\n",
            "Epoch 35/50\n",
            "782/782 [==============================] - 12s 16ms/step - loss: 3.2424e-06 - accuracy: 1.0000 - val_loss: 2.1041 - val_accuracy: 0.8154\n",
            "Epoch 36/50\n",
            "782/782 [==============================] - 12s 16ms/step - loss: 2.0955e-06 - accuracy: 1.0000 - val_loss: 2.1722 - val_accuracy: 0.8149\n",
            "Epoch 37/50\n",
            "782/782 [==============================] - 12s 16ms/step - loss: 1.4231e-06 - accuracy: 1.0000 - val_loss: 2.2401 - val_accuracy: 0.8148\n",
            "Epoch 38/50\n",
            "782/782 [==============================] - 12s 16ms/step - loss: 1.0039e-06 - accuracy: 1.0000 - val_loss: 2.3086 - val_accuracy: 0.8147\n",
            "Epoch 39/50\n",
            "782/782 [==============================] - 12s 16ms/step - loss: 6.2876e-07 - accuracy: 1.0000 - val_loss: 2.3802 - val_accuracy: 0.8149\n",
            "Epoch 40/50\n",
            "782/782 [==============================] - 12s 16ms/step - loss: 4.4601e-07 - accuracy: 1.0000 - val_loss: 2.4519 - val_accuracy: 0.8147\n",
            "Epoch 41/50\n",
            "782/782 [==============================] - 12s 16ms/step - loss: 2.7043e-07 - accuracy: 1.0000 - val_loss: 2.5200 - val_accuracy: 0.8149\n",
            "Epoch 42/50\n",
            "782/782 [==============================] - 12s 16ms/step - loss: 1.7967e-07 - accuracy: 1.0000 - val_loss: 2.5921 - val_accuracy: 0.8148\n",
            "Epoch 43/50\n",
            "782/782 [==============================] - 12s 16ms/step - loss: 1.1003e-07 - accuracy: 1.0000 - val_loss: 2.6595 - val_accuracy: 0.8150\n",
            "Epoch 44/50\n",
            "782/782 [==============================] - 12s 16ms/step - loss: 8.1817e-08 - accuracy: 1.0000 - val_loss: 2.7291 - val_accuracy: 0.8146\n",
            "Epoch 45/50\n",
            "782/782 [==============================] - 12s 16ms/step - loss: 5.6416e-08 - accuracy: 1.0000 - val_loss: 2.7997 - val_accuracy: 0.8150\n",
            "Epoch 46/50\n",
            "782/782 [==============================] - 12s 16ms/step - loss: 3.5723e-08 - accuracy: 1.0000 - val_loss: 2.8640 - val_accuracy: 0.8150\n",
            "Epoch 47/50\n",
            "782/782 [==============================] - 12s 16ms/step - loss: 2.4448e-08 - accuracy: 1.0000 - val_loss: 2.9314 - val_accuracy: 0.8150\n",
            "Epoch 48/50\n",
            "782/782 [==============================] - 12s 16ms/step - loss: 1.6673e-08 - accuracy: 1.0000 - val_loss: 2.9963 - val_accuracy: 0.8147\n",
            "Epoch 49/50\n",
            "782/782 [==============================] - 12s 16ms/step - loss: 1.1614e-08 - accuracy: 1.0000 - val_loss: 3.0597 - val_accuracy: 0.8148\n",
            "Epoch 50/50\n",
            "782/782 [==============================] - 12s 16ms/step - loss: 8.4221e-09 - accuracy: 1.0000 - val_loss: 3.1133 - val_accuracy: 0.8148\n"
          ],
          "name": "stdout"
        }
      ]
    },
    {
      "cell_type": "code",
      "metadata": {
        "id": "4EgYIM4tnmoQ",
        "colab": {
          "base_uri": "https://localhost:8080/",
          "height": 541
        },
        "outputId": "09eb3faa-632e-42e0-84d9-181586e90458"
      },
      "source": [
        "import matplotlib.pyplot as plt\r\n",
        "\r\n",
        "\r\n",
        "def plot_graphs(history, string):\r\n",
        "  plt.plot(history.history[string])\r\n",
        "  plt.plot(history.history['val_'+string])\r\n",
        "  plt.xlabel(\"Epochs\")\r\n",
        "  plt.ylabel(string)\r\n",
        "  plt.legend([string, 'val_'+string])\r\n",
        "  plt.show()\r\n",
        "\r\n",
        "plot_graphs(history, 'accuracy')\r\n",
        "plot_graphs(history, 'loss')"
      ],
      "execution_count": 44,
      "outputs": [
        {
          "output_type": "display_data",
          "data": {
            "image/png": "[encoded data removed]",
            "text/plain": [
              "<Figure size 432x288 with 1 Axes>"
            ]
          },
          "metadata": {
            "tags": [],
            "needs_background": "light"
          }
        },
        {
          "output_type": "display_data",
          "data": {
            "image/png": "[encoded data removed]",
            "text/plain": [
              "<Figure size 432x288 with 1 Axes>"
            ]
          },
          "metadata": {
            "tags": [],
            "needs_background": "light"
          }
        }
      ]
    },
    {
      "cell_type": "code",
      "metadata": {
        "id": "q1BZEc6qnmqB",
        "colab": {
          "base_uri": "https://localhost:8080/"
        },
        "outputId": "c7cdd817-7d04-4556-cf56-88211b876940"
      },
      "source": [
        "# Model Definition with LSTM\r\n",
        "model = tf.keras.Sequential([\r\n",
        "    tf.keras.layers.Embedding(vocab_size, embedding_dim, input_length=max_length),\r\n",
        "    tf.keras.layers.Bidirectional(tf.keras.layers.LSTM(32)),\r\n",
        "    tf.keras.layers.Dense(6, activation='relu'),\r\n",
        "    tf.keras.layers.Dense(1, activation='sigmoid')\r\n",
        "])\r\n",
        "model.compile(loss='binary_crossentropy',optimizer='adam',metrics=['accuracy'])\r\n",
        "model.summary()\r\n"
      ],
      "execution_count": 45,
      "outputs": [
        {
          "output_type": "stream",
          "text": [
            "Model: \"sequential_4\"\n",
            "_________________________________________________________________\n",
            "Layer (type)                 Output Shape              Param #   \n",
            "=================================================================\n",
            "embedding_4 (Embedding)      (None, 120, 16)           160000    \n",
            "_________________________________________________________________\n",
            "bidirectional_3 (Bidirection (None, 64)                12544     \n",
            "_________________________________________________________________\n",
            "dense_8 (Dense)              (None, 6)                 390       \n",
            "_________________________________________________________________\n",
            "dense_9 (Dense)              (None, 1)                 7         \n",
            "=================================================================\n",
            "Total params: 172,941\n",
            "Trainable params: 172,941\n",
            "Non-trainable params: 0\n",
            "_________________________________________________________________\n"
          ],
          "name": "stdout"
        }
      ]
    },
    {
      "cell_type": "code",
      "metadata": {
        "id": "FbmBHcJVnmsd"
      },
      "source": [
        "# Model Definition with Conv1D\r\n",
        "model = tf.keras.Sequential([\r\n",
        "    tf.keras.layers.Embedding(vocab_size, embedding_dim, input_length=max_length),\r\n",
        "    tf.keras.layers.Conv1D(128, 5, activation='relu'),\r\n",
        "    tf.keras.layers.GlobalAveragePooling1D(),\r\n",
        "    tf.keras.layers.Dense(6, activation='relu'),\r\n",
        "    tf.keras.layers.Dense(1, activation='sigmoid')\r\n",
        "])\r\n",
        "model.compile(loss='binary_crossentropy',optimizer='adam',metrics=['accuracy'])\r\n",
        "model.summary()\r\n"
      ],
      "execution_count": null,
      "outputs": []
    },
    {
      "cell_type": "markdown",
      "metadata": {
        "id": "UiYpks3UoVOi"
      },
      "source": [
        "# Sarcasm with 1D Convolutional Layer"
      ]
    },
    {
      "cell_type": "code",
      "metadata": {
        "id": "CrbFuyJXnmvB",
        "colab": {
          "base_uri": "https://localhost:8080/"
        },
        "outputId": "1de790ce-f56b-4f25-a3d7-907171d42dee"
      },
      "source": [
        "import numpy as np\r\n",
        "\r\n",
        "import json\r\n",
        "import tensorflow as tf\r\n",
        "\r\n",
        "from tensorflow.keras.preprocessing.text import Tokenizer\r\n",
        "from tensorflow.keras.preprocessing.sequence import pad_sequences\r\n",
        "\r\n",
        "!wget --no-check-certificate \\\r\n",
        "    https://storage.googleapis.com/laurencemoroney-blog.appspot.com/sarcasm.json \\\r\n",
        "    -O /tmp/sarcasm.json\r\n",
        "\r\n",
        "vocab_size = 1000\r\n",
        "embedding_dim = 16\r\n",
        "max_length = 120\r\n",
        "trunc_type='post'\r\n",
        "padding_type='post'\r\n",
        "oov_tok = \"<OOV>\"\r\n",
        "training_size = 20000\r\n",
        "\r\n",
        "\r\n",
        "with open(\"/tmp/sarcasm.json\", 'r') as f:\r\n",
        "    datastore = json.load(f)\r\n",
        "\r\n",
        "\r\n",
        "sentences = []\r\n",
        "labels = []\r\n",
        "urls = []\r\n",
        "for item in datastore:\r\n",
        "    sentences.append(item['headline'])\r\n",
        "    labels.append(item['is_sarcastic'])\r\n",
        "\r\n",
        "training_sentences = sentences[0:training_size]\r\n",
        "testing_sentences = sentences[training_size:]\r\n",
        "training_labels = labels[0:training_size]\r\n",
        "testing_labels = labels[training_size:]\r\n",
        "\r\n",
        "tokenizer = Tokenizer(num_words=vocab_size, oov_token=oov_tok)\r\n",
        "tokenizer.fit_on_texts(training_sentences)\r\n",
        "\r\n",
        "word_index = tokenizer.word_index\r\n",
        "\r\n",
        "training_sequences = tokenizer.texts_to_sequences(training_sentences)\r\n",
        "training_padded = pad_sequences(training_sequences, maxlen=max_length, padding=padding_type, truncating=trunc_type)\r\n",
        "\r\n",
        "testing_sequences = tokenizer.texts_to_sequences(testing_sentences)\r\n",
        "testing_padded = pad_sequences(testing_sequences, maxlen=max_length, padding=padding_type, truncating=trunc_type)\r\n",
        "\r\n",
        "model = tf.keras.Sequential([\r\n",
        "    tf.keras.layers.Embedding(vocab_size, embedding_dim, input_length=max_length),\r\n",
        "    tf.keras.layers.Conv1D(128, 5, activation='relu'),\r\n",
        "    tf.keras.layers.GlobalMaxPooling1D(),\r\n",
        "    tf.keras.layers.Dense(24, activation='relu'),\r\n",
        "    tf.keras.layers.Dense(1, activation='sigmoid')\r\n",
        "])\r\n",
        "model.compile(loss='binary_crossentropy',optimizer='adam',metrics=['accuracy'])\r\n",
        "model.summary()\r\n",
        "\r\n",
        "num_epochs = 50\r\n",
        "\r\n",
        "training_padded = np.array(training_padded)\r\n",
        "training_labels = np.array(training_labels)\r\n",
        "testing_padded = np.array(testing_padded)\r\n",
        "testing_labels = np.array(testing_labels)\r\n",
        "\r\n",
        "history = model.fit(training_padded, training_labels, epochs=num_epochs, validation_data=(testing_padded, testing_labels), verbose=1)\r\n"
      ],
      "execution_count": 46,
      "outputs": [
        {
          "output_type": "stream",
          "text": [
            "--2021-02-25 08:04:18--  https://storage.googleapis.com/laurencemoroney-blog.appspot.com/sarcasm.json\n",
            "Resolving storage.googleapis.com (storage.googleapis.com)... 142.250.107.128, 108.177.98.128, 74.125.197.128, ...\n",
            "Connecting to storage.googleapis.com (storage.googleapis.com)|142.250.107.128|:443... connected.\n",
            "HTTP request sent, awaiting response... 200 OK\n",
            "Length: 5643545 (5.4M) [application/json]\n",
            "Saving to: ‘/tmp/sarcasm.json’\n",
            "\n",
            "/tmp/sarcasm.json   100%[===================>]   5.38M  --.-KB/s    in 0.04s   \n",
            "\n",
            "2021-02-25 08:04:19 (141 MB/s) - ‘/tmp/sarcasm.json’ saved [5643545/5643545]\n",
            "\n",
            "Model: \"sequential_5\"\n",
            "_________________________________________________________________\n",
            "Layer (type)                 Output Shape              Param #   \n",
            "=================================================================\n",
            "embedding_5 (Embedding)      (None, 120, 16)           16000     \n",
            "_________________________________________________________________\n",
            "conv1d_1 (Conv1D)            (None, 116, 128)          10368     \n",
            "_________________________________________________________________\n",
            "global_max_pooling1d (Global (None, 128)               0         \n",
            "_________________________________________________________________\n",
            "dense_10 (Dense)             (None, 24)                3096      \n",
            "_________________________________________________________________\n",
            "dense_11 (Dense)             (None, 1)                 25        \n",
            "=================================================================\n",
            "Total params: 29,489\n",
            "Trainable params: 29,489\n",
            "Non-trainable params: 0\n",
            "_________________________________________________________________\n",
            "Epoch 1/50\n",
            "625/625 [==============================] - 3s 3ms/step - loss: 0.5516 - accuracy: 0.6978 - val_loss: 0.4104 - val_accuracy: 0.8126\n",
            "Epoch 2/50\n",
            "625/625 [==============================] - 2s 3ms/step - loss: 0.3611 - accuracy: 0.8376 - val_loss: 0.3960 - val_accuracy: 0.8240\n",
            "Epoch 3/50\n",
            "625/625 [==============================] - 2s 3ms/step - loss: 0.3156 - accuracy: 0.8605 - val_loss: 0.3956 - val_accuracy: 0.8211\n",
            "Epoch 4/50\n",
            "625/625 [==============================] - 2s 3ms/step - loss: 0.2827 - accuracy: 0.8760 - val_loss: 0.4113 - val_accuracy: 0.8182\n",
            "Epoch 5/50\n",
            "625/625 [==============================] - 2s 3ms/step - loss: 0.2448 - accuracy: 0.8980 - val_loss: 0.4211 - val_accuracy: 0.8216\n",
            "Epoch 6/50\n",
            "625/625 [==============================] - 2s 3ms/step - loss: 0.2143 - accuracy: 0.9133 - val_loss: 0.4581 - val_accuracy: 0.8186\n",
            "Epoch 7/50\n",
            "625/625 [==============================] - 2s 3ms/step - loss: 0.1829 - accuracy: 0.9283 - val_loss: 0.5119 - val_accuracy: 0.8144\n",
            "Epoch 8/50\n",
            "625/625 [==============================] - 2s 3ms/step - loss: 0.1443 - accuracy: 0.9464 - val_loss: 0.5528 - val_accuracy: 0.8114\n",
            "Epoch 9/50\n",
            "625/625 [==============================] - 2s 3ms/step - loss: 0.1279 - accuracy: 0.9554 - val_loss: 0.6115 - val_accuracy: 0.8034\n",
            "Epoch 10/50\n",
            "625/625 [==============================] - 2s 3ms/step - loss: 0.0983 - accuracy: 0.9671 - val_loss: 0.7019 - val_accuracy: 0.8022\n",
            "Epoch 11/50\n",
            "625/625 [==============================] - 2s 3ms/step - loss: 0.0871 - accuracy: 0.9684 - val_loss: 0.7588 - val_accuracy: 0.8009\n",
            "Epoch 12/50\n",
            "625/625 [==============================] - 2s 3ms/step - loss: 0.0728 - accuracy: 0.9759 - val_loss: 0.8708 - val_accuracy: 0.7939\n",
            "Epoch 13/50\n",
            "625/625 [==============================] - 2s 3ms/step - loss: 0.0592 - accuracy: 0.9799 - val_loss: 0.9329 - val_accuracy: 0.7968\n",
            "Epoch 14/50\n",
            "625/625 [==============================] - 2s 3ms/step - loss: 0.0544 - accuracy: 0.9813 - val_loss: 1.0136 - val_accuracy: 0.7974\n",
            "Epoch 15/50\n",
            "625/625 [==============================] - 2s 3ms/step - loss: 0.0519 - accuracy: 0.9817 - val_loss: 1.1485 - val_accuracy: 0.7956\n",
            "Epoch 16/50\n",
            "625/625 [==============================] - 2s 3ms/step - loss: 0.0462 - accuracy: 0.9832 - val_loss: 1.1790 - val_accuracy: 0.7968\n",
            "Epoch 17/50\n",
            "625/625 [==============================] - 2s 3ms/step - loss: 0.0427 - accuracy: 0.9836 - val_loss: 1.2707 - val_accuracy: 0.7943\n",
            "Epoch 18/50\n",
            "625/625 [==============================] - 2s 3ms/step - loss: 0.0415 - accuracy: 0.9848 - val_loss: 1.2928 - val_accuracy: 0.7903\n",
            "Epoch 19/50\n",
            "625/625 [==============================] - 2s 3ms/step - loss: 0.0366 - accuracy: 0.9867 - val_loss: 1.4088 - val_accuracy: 0.7945\n",
            "Epoch 20/50\n",
            "625/625 [==============================] - 2s 3ms/step - loss: 0.0305 - accuracy: 0.9878 - val_loss: 1.5018 - val_accuracy: 0.7921\n",
            "Epoch 21/50\n",
            "625/625 [==============================] - 2s 3ms/step - loss: 0.0341 - accuracy: 0.9858 - val_loss: 1.5318 - val_accuracy: 0.7852\n",
            "Epoch 22/50\n",
            "625/625 [==============================] - 2s 3ms/step - loss: 0.0286 - accuracy: 0.9886 - val_loss: 1.6103 - val_accuracy: 0.7906\n",
            "Epoch 23/50\n",
            "625/625 [==============================] - 2s 3ms/step - loss: 0.0304 - accuracy: 0.9870 - val_loss: 1.6096 - val_accuracy: 0.7913\n",
            "Epoch 24/50\n",
            "625/625 [==============================] - 2s 3ms/step - loss: 0.0315 - accuracy: 0.9879 - val_loss: 1.7463 - val_accuracy: 0.7839\n",
            "Epoch 25/50\n",
            "625/625 [==============================] - 2s 3ms/step - loss: 0.0333 - accuracy: 0.9862 - val_loss: 1.7297 - val_accuracy: 0.7894\n",
            "Epoch 26/50\n",
            "625/625 [==============================] - 2s 3ms/step - loss: 0.0255 - accuracy: 0.9893 - val_loss: 1.7569 - val_accuracy: 0.7772\n",
            "Epoch 27/50\n",
            "625/625 [==============================] - 2s 3ms/step - loss: 0.0302 - accuracy: 0.9872 - val_loss: 1.8584 - val_accuracy: 0.7962\n",
            "Epoch 28/50\n",
            "625/625 [==============================] - 2s 3ms/step - loss: 0.0246 - accuracy: 0.9898 - val_loss: 1.9423 - val_accuracy: 0.7822\n",
            "Epoch 29/50\n",
            "625/625 [==============================] - 2s 3ms/step - loss: 0.0233 - accuracy: 0.9903 - val_loss: 1.8878 - val_accuracy: 0.7918\n",
            "Epoch 30/50\n",
            "625/625 [==============================] - 2s 3ms/step - loss: 0.0256 - accuracy: 0.9894 - val_loss: 1.9871 - val_accuracy: 0.7840\n",
            "Epoch 31/50\n",
            "625/625 [==============================] - 2s 3ms/step - loss: 0.0270 - accuracy: 0.9886 - val_loss: 1.9425 - val_accuracy: 0.7977\n",
            "Epoch 32/50\n",
            "625/625 [==============================] - 2s 3ms/step - loss: 0.0315 - accuracy: 0.9870 - val_loss: 2.1008 - val_accuracy: 0.7906\n",
            "Epoch 33/50\n",
            "625/625 [==============================] - 2s 3ms/step - loss: 0.0236 - accuracy: 0.9896 - val_loss: 2.0748 - val_accuracy: 0.7925\n",
            "Epoch 34/50\n",
            "625/625 [==============================] - 2s 3ms/step - loss: 0.0172 - accuracy: 0.9928 - val_loss: 2.1362 - val_accuracy: 0.7855\n",
            "Epoch 35/50\n",
            "625/625 [==============================] - 2s 3ms/step - loss: 0.0185 - accuracy: 0.9912 - val_loss: 2.0568 - val_accuracy: 0.7897\n",
            "Epoch 36/50\n",
            "625/625 [==============================] - 2s 3ms/step - loss: 0.0263 - accuracy: 0.9889 - val_loss: 2.2251 - val_accuracy: 0.7949\n",
            "Epoch 37/50\n",
            "625/625 [==============================] - 2s 3ms/step - loss: 0.0270 - accuracy: 0.9890 - val_loss: 2.1670 - val_accuracy: 0.7860\n",
            "Epoch 38/50\n",
            "625/625 [==============================] - 2s 3ms/step - loss: 0.0240 - accuracy: 0.9890 - val_loss: 2.1763 - val_accuracy: 0.7882\n",
            "Epoch 39/50\n",
            "625/625 [==============================] - 2s 3ms/step - loss: 0.0225 - accuracy: 0.9901 - val_loss: 2.1998 - val_accuracy: 0.7951\n",
            "Epoch 40/50\n",
            "625/625 [==============================] - 2s 3ms/step - loss: 0.0226 - accuracy: 0.9899 - val_loss: 2.1943 - val_accuracy: 0.7913\n",
            "Epoch 41/50\n",
            "625/625 [==============================] - 2s 3ms/step - loss: 0.0277 - accuracy: 0.9882 - val_loss: 2.2370 - val_accuracy: 0.7915\n",
            "Epoch 42/50\n",
            "625/625 [==============================] - 2s 3ms/step - loss: 0.0203 - accuracy: 0.9904 - val_loss: 2.2960 - val_accuracy: 0.7915\n",
            "Epoch 43/50\n",
            "625/625 [==============================] - 2s 3ms/step - loss: 0.0153 - accuracy: 0.9926 - val_loss: 2.4546 - val_accuracy: 0.7930\n",
            "Epoch 44/50\n",
            "625/625 [==============================] - 2s 3ms/step - loss: 0.0140 - accuracy: 0.9939 - val_loss: 2.5151 - val_accuracy: 0.7897\n",
            "Epoch 45/50\n",
            "625/625 [==============================] - 2s 3ms/step - loss: 0.0218 - accuracy: 0.9906 - val_loss: 2.4034 - val_accuracy: 0.7924\n",
            "Epoch 46/50\n",
            "625/625 [==============================] - 2s 3ms/step - loss: 0.0387 - accuracy: 0.9848 - val_loss: 2.3052 - val_accuracy: 0.7930\n",
            "Epoch 47/50\n",
            "625/625 [==============================] - 2s 3ms/step - loss: 0.0190 - accuracy: 0.9912 - val_loss: 2.3648 - val_accuracy: 0.7910\n",
            "Epoch 48/50\n",
            "625/625 [==============================] - 2s 3ms/step - loss: 0.0185 - accuracy: 0.9904 - val_loss: 2.5014 - val_accuracy: 0.7913\n",
            "Epoch 49/50\n",
            "625/625 [==============================] - 2s 3ms/step - loss: 0.0167 - accuracy: 0.9924 - val_loss: 2.4987 - val_accuracy: 0.7843\n",
            "Epoch 50/50\n",
            "625/625 [==============================] - 2s 3ms/step - loss: 0.0196 - accuracy: 0.9905 - val_loss: 2.4300 - val_accuracy: 0.7924\n"
          ],
          "name": "stdout"
        }
      ]
    },
    {
      "cell_type": "code",
      "metadata": {
        "id": "VYBv8P9sohTk",
        "colab": {
          "base_uri": "https://localhost:8080/",
          "height": 542
        },
        "outputId": "cb28b799-e11c-438f-f4cb-6c9cf67c0b63"
      },
      "source": [
        "import matplotlib.pyplot as plt\r\n",
        "\r\n",
        "\r\n",
        "def plot_graphs(history, string):\r\n",
        "  plt.plot(history.history[string])\r\n",
        "  plt.plot(history.history['val_'+string])\r\n",
        "  plt.xlabel(\"Epochs\")\r\n",
        "  plt.ylabel(string)\r\n",
        "  plt.legend([string, 'val_'+string])\r\n",
        "  plt.show()\r\n",
        "\r\n",
        "plot_graphs(history, 'accuracy')\r\n",
        "plot_graphs(history, 'loss')"
      ],
      "execution_count": 47,
      "outputs": [
        {
          "output_type": "display_data",
          "data": {
            "image/png": "[encoded data removed]",
            "text/plain": [
              "<Figure size 432x288 with 1 Axes>"
            ]
          },
          "metadata": {
            "tags": [],
            "needs_background": "light"
          }
        },
        {
          "output_type": "display_data",
          "data": {
            "image/png": "[encoded data removed]",
            "text/plain": [
              "<Figure size 432x288 with 1 Axes>"
            ]
          },
          "metadata": {
            "tags": [],
            "needs_background": "light"
          }
        }
      ]
    },
    {
      "cell_type": "code",
      "metadata": {
        "id": "8rEyvOL2ojpx"
      },
      "source": [
        "# model.save(\"test.h5\")"
      ],
      "execution_count": null,
      "outputs": []
    },
    {
      "cell_type": "markdown",
      "metadata": {
        "id": "X8-2DTQZokBR"
      },
      "source": [
        "# Sarcasm with Bidirectional LSTM"
      ]
    },
    {
      "cell_type": "code",
      "metadata": {
        "id": "4YkGyJdgomep",
        "colab": {
          "base_uri": "https://localhost:8080/"
        },
        "outputId": "baa4ccee-79fe-4300-c1b4-498062874320"
      },
      "source": [
        "import numpy as np\r\n",
        "\r\n",
        "import json\r\n",
        "import tensorflow as tf\r\n",
        "\r\n",
        "from tensorflow.keras.preprocessing.text import Tokenizer\r\n",
        "from tensorflow.keras.preprocessing.sequence import pad_sequences\r\n",
        "\r\n",
        "!wget --no-check-certificate \\\r\n",
        "    https://storage.googleapis.com/laurencemoroney-blog.appspot.com/sarcasm.json \\\r\n",
        "    -O /tmp/sarcasm.json\r\n",
        "\r\n",
        "vocab_size = 1000\r\n",
        "embedding_dim = 16\r\n",
        "max_length = 120\r\n",
        "trunc_type='post'\r\n",
        "padding_type='post'\r\n",
        "oov_tok = \"<OOV>\"\r\n",
        "training_size = 20000\r\n",
        "\r\n",
        "\r\n",
        "with open(\"/tmp/sarcasm.json\", 'r') as f:\r\n",
        "    datastore = json.load(f)\r\n",
        "\r\n",
        "\r\n",
        "sentences = []\r\n",
        "labels = []\r\n",
        "urls = []\r\n",
        "for item in datastore:\r\n",
        "    sentences.append(item['headline'])\r\n",
        "    labels.append(item['is_sarcastic'])\r\n",
        "\r\n",
        "training_sentences = sentences[0:training_size]\r\n",
        "testing_sentences = sentences[training_size:]\r\n",
        "training_labels = labels[0:training_size]\r\n",
        "testing_labels = labels[training_size:]\r\n",
        "\r\n",
        "tokenizer = Tokenizer(num_words=vocab_size, oov_token=oov_tok)\r\n",
        "tokenizer.fit_on_texts(training_sentences)\r\n",
        "\r\n",
        "word_index = tokenizer.word_index\r\n",
        "\r\n",
        "training_sequences = tokenizer.texts_to_sequences(training_sentences)\r\n",
        "training_padded = pad_sequences(training_sequences, maxlen=max_length, padding=padding_type, truncating=trunc_type)\r\n",
        "\r\n",
        "testing_sequences = tokenizer.texts_to_sequences(testing_sentences)\r\n",
        "testing_padded = pad_sequences(testing_sequences, maxlen=max_length, padding=padding_type, truncating=trunc_type)\r\n",
        "\r\n",
        "model = tf.keras.Sequential([\r\n",
        "    tf.keras.layers.Embedding(vocab_size, embedding_dim, input_length=max_length),\r\n",
        "    tf.keras.layers.Bidirectional(tf.keras.layers.LSTM(32)),\r\n",
        "    tf.keras.layers.Dense(24, activation='relu'),\r\n",
        "    tf.keras.layers.Dense(1, activation='sigmoid')\r\n",
        "])\r\n",
        "model.compile(loss='binary_crossentropy',optimizer='adam',metrics=['accuracy'])\r\n",
        "model.summary()\r\n",
        "\r\n",
        "num_epochs = 50\r\n",
        "training_padded = np.array(training_padded)\r\n",
        "training_labels = np.array(training_labels)\r\n",
        "testing_padded = np.array(testing_padded)\r\n",
        "testing_labels = np.array(testing_labels)\r\n",
        "history = model.fit(training_padded, training_labels, epochs=num_epochs, validation_data=(testing_padded, testing_labels), verbose=1)\r\n"
      ],
      "execution_count": 48,
      "outputs": [
        {
          "output_type": "stream",
          "text": [
            "--2021-02-25 08:06:00--  https://storage.googleapis.com/laurencemoroney-blog.appspot.com/sarcasm.json\n",
            "Resolving storage.googleapis.com (storage.googleapis.com)... 74.125.20.128, 74.125.197.128, 74.125.142.128, ...\n",
            "Connecting to storage.googleapis.com (storage.googleapis.com)|74.125.20.128|:443... connected.\n",
            "HTTP request sent, awaiting response... 200 OK\n",
            "Length: 5643545 (5.4M) [application/json]\n",
            "Saving to: ‘/tmp/sarcasm.json’\n",
            "\n",
            "\r/tmp/sarcasm.json     0%[                    ]       0  --.-KB/s               \r/tmp/sarcasm.json   100%[===================>]   5.38M  --.-KB/s    in 0.04s   \n",
            "\n",
            "2021-02-25 08:06:00 (152 MB/s) - ‘/tmp/sarcasm.json’ saved [5643545/5643545]\n",
            "\n",
            "Model: \"sequential_6\"\n",
            "_________________________________________________________________\n",
            "Layer (type)                 Output Shape              Param #   \n",
            "=================================================================\n",
            "embedding_6 (Embedding)      (None, 120, 16)           16000     \n",
            "_________________________________________________________________\n",
            "bidirectional_4 (Bidirection (None, 64)                12544     \n",
            "_________________________________________________________________\n",
            "dense_12 (Dense)             (None, 24)                1560      \n",
            "_________________________________________________________________\n",
            "dense_13 (Dense)             (None, 1)                 25        \n",
            "=================================================================\n",
            "Total params: 30,129\n",
            "Trainable params: 30,129\n",
            "Non-trainable params: 0\n",
            "_________________________________________________________________\n",
            "Epoch 1/50\n",
            "625/625 [==============================] - 10s 13ms/step - loss: 0.5412 - accuracy: 0.7006 - val_loss: 0.3974 - val_accuracy: 0.8171\n",
            "Epoch 2/50\n",
            "625/625 [==============================] - 7s 12ms/step - loss: 0.3471 - accuracy: 0.8398 - val_loss: 0.3826 - val_accuracy: 0.8243\n",
            "Epoch 3/50\n",
            "625/625 [==============================] - 7s 12ms/step - loss: 0.3275 - accuracy: 0.8517 - val_loss: 0.3733 - val_accuracy: 0.8317\n",
            "Epoch 4/50\n",
            "625/625 [==============================] - 7s 12ms/step - loss: 0.3058 - accuracy: 0.8646 - val_loss: 0.3765 - val_accuracy: 0.8314\n",
            "Epoch 5/50\n",
            "625/625 [==============================] - 7s 12ms/step - loss: 0.2985 - accuracy: 0.8721 - val_loss: 0.3803 - val_accuracy: 0.8325\n",
            "Epoch 6/50\n",
            "625/625 [==============================] - 8s 12ms/step - loss: 0.2842 - accuracy: 0.8742 - val_loss: 0.3770 - val_accuracy: 0.8287\n",
            "Epoch 7/50\n",
            "625/625 [==============================] - 8s 12ms/step - loss: 0.2754 - accuracy: 0.8803 - val_loss: 0.3964 - val_accuracy: 0.8289\n",
            "Epoch 8/50\n",
            "625/625 [==============================] - 7s 12ms/step - loss: 0.2621 - accuracy: 0.8870 - val_loss: 0.4003 - val_accuracy: 0.8281\n",
            "Epoch 9/50\n",
            "625/625 [==============================] - 7s 12ms/step - loss: 0.2626 - accuracy: 0.8891 - val_loss: 0.3904 - val_accuracy: 0.8275\n",
            "Epoch 10/50\n",
            "625/625 [==============================] - 7s 12ms/step - loss: 0.2594 - accuracy: 0.8900 - val_loss: 0.4179 - val_accuracy: 0.8275\n",
            "Epoch 11/50\n",
            "625/625 [==============================] - 7s 12ms/step - loss: 0.2469 - accuracy: 0.8939 - val_loss: 0.4123 - val_accuracy: 0.8280\n",
            "Epoch 12/50\n",
            "625/625 [==============================] - 7s 12ms/step - loss: 0.2433 - accuracy: 0.8963 - val_loss: 0.4121 - val_accuracy: 0.8271\n",
            "Epoch 13/50\n",
            "625/625 [==============================] - 7s 12ms/step - loss: 0.2322 - accuracy: 0.9023 - val_loss: 0.4146 - val_accuracy: 0.8249\n",
            "Epoch 14/50\n",
            "625/625 [==============================] - 7s 12ms/step - loss: 0.2326 - accuracy: 0.8996 - val_loss: 0.4121 - val_accuracy: 0.8216\n",
            "Epoch 15/50\n",
            "625/625 [==============================] - 7s 12ms/step - loss: 0.2214 - accuracy: 0.9074 - val_loss: 0.4349 - val_accuracy: 0.8252\n",
            "Epoch 16/50\n",
            "625/625 [==============================] - 7s 12ms/step - loss: 0.2108 - accuracy: 0.9135 - val_loss: 0.4410 - val_accuracy: 0.8235\n",
            "Epoch 17/50\n",
            "625/625 [==============================] - 7s 12ms/step - loss: 0.2088 - accuracy: 0.9145 - val_loss: 0.4769 - val_accuracy: 0.8216\n",
            "Epoch 18/50\n",
            "625/625 [==============================] - 7s 12ms/step - loss: 0.2014 - accuracy: 0.9163 - val_loss: 0.4925 - val_accuracy: 0.8211\n",
            "Epoch 19/50\n",
            "625/625 [==============================] - 7s 12ms/step - loss: 0.1905 - accuracy: 0.9219 - val_loss: 0.5093 - val_accuracy: 0.8144\n",
            "Epoch 20/50\n",
            "625/625 [==============================] - 7s 12ms/step - loss: 0.1863 - accuracy: 0.9237 - val_loss: 0.5098 - val_accuracy: 0.8228\n",
            "Epoch 21/50\n",
            "625/625 [==============================] - 7s 12ms/step - loss: 0.1792 - accuracy: 0.9298 - val_loss: 0.5514 - val_accuracy: 0.8193\n",
            "Epoch 22/50\n",
            "625/625 [==============================] - 7s 12ms/step - loss: 0.1701 - accuracy: 0.9309 - val_loss: 0.5598 - val_accuracy: 0.8110\n",
            "Epoch 23/50\n",
            "625/625 [==============================] - 7s 12ms/step - loss: 0.1627 - accuracy: 0.9340 - val_loss: 0.5845 - val_accuracy: 0.8076\n",
            "Epoch 24/50\n",
            "625/625 [==============================] - 7s 12ms/step - loss: 0.1614 - accuracy: 0.9349 - val_loss: 0.6005 - val_accuracy: 0.8147\n",
            "Epoch 25/50\n",
            "625/625 [==============================] - 7s 12ms/step - loss: 0.1567 - accuracy: 0.9361 - val_loss: 0.6897 - val_accuracy: 0.8131\n",
            "Epoch 26/50\n",
            "625/625 [==============================] - 7s 12ms/step - loss: 0.1461 - accuracy: 0.9440 - val_loss: 0.6884 - val_accuracy: 0.8044\n",
            "Epoch 27/50\n",
            "625/625 [==============================] - 7s 12ms/step - loss: 0.1388 - accuracy: 0.9473 - val_loss: 0.7676 - val_accuracy: 0.7980\n",
            "Epoch 28/50\n",
            "625/625 [==============================] - 7s 12ms/step - loss: 0.1428 - accuracy: 0.9453 - val_loss: 0.8187 - val_accuracy: 0.8079\n",
            "Epoch 29/50\n",
            "625/625 [==============================] - 7s 12ms/step - loss: 0.1271 - accuracy: 0.9520 - val_loss: 0.8385 - val_accuracy: 0.8034\n",
            "Epoch 30/50\n",
            "625/625 [==============================] - 7s 12ms/step - loss: 0.1241 - accuracy: 0.9522 - val_loss: 0.7466 - val_accuracy: 0.8092\n",
            "Epoch 31/50\n",
            "625/625 [==============================] - 7s 12ms/step - loss: 0.1135 - accuracy: 0.9599 - val_loss: 0.8244 - val_accuracy: 0.8021\n",
            "Epoch 32/50\n",
            "625/625 [==============================] - 7s 12ms/step - loss: 0.1075 - accuracy: 0.9579 - val_loss: 0.8971 - val_accuracy: 0.8076\n",
            "Epoch 33/50\n",
            "625/625 [==============================] - 7s 12ms/step - loss: 0.1078 - accuracy: 0.9613 - val_loss: 0.9027 - val_accuracy: 0.8016\n",
            "Epoch 34/50\n",
            "625/625 [==============================] - 7s 12ms/step - loss: 0.1069 - accuracy: 0.9615 - val_loss: 0.9492 - val_accuracy: 0.8064\n",
            "Epoch 35/50\n",
            "625/625 [==============================] - 8s 12ms/step - loss: 0.1010 - accuracy: 0.9620 - val_loss: 1.0230 - val_accuracy: 0.7986\n",
            "Epoch 36/50\n",
            "625/625 [==============================] - 8s 12ms/step - loss: 0.0923 - accuracy: 0.9661 - val_loss: 1.0534 - val_accuracy: 0.7995\n",
            "Epoch 37/50\n",
            "625/625 [==============================] - 8s 12ms/step - loss: 0.0913 - accuracy: 0.9653 - val_loss: 1.0579 - val_accuracy: 0.8034\n",
            "Epoch 38/50\n",
            "625/625 [==============================] - 8s 12ms/step - loss: 0.0834 - accuracy: 0.9671 - val_loss: 1.1606 - val_accuracy: 0.8030\n",
            "Epoch 39/50\n",
            "625/625 [==============================] - 7s 12ms/step - loss: 0.0816 - accuracy: 0.9688 - val_loss: 1.1205 - val_accuracy: 0.8049\n",
            "Epoch 40/50\n",
            "625/625 [==============================] - 7s 12ms/step - loss: 0.0780 - accuracy: 0.9712 - val_loss: 1.1177 - val_accuracy: 0.8022\n",
            "Epoch 41/50\n",
            "625/625 [==============================] - 7s 12ms/step - loss: 0.0801 - accuracy: 0.9713 - val_loss: 1.2674 - val_accuracy: 0.8004\n",
            "Epoch 42/50\n",
            "625/625 [==============================] - 7s 12ms/step - loss: 0.0785 - accuracy: 0.9700 - val_loss: 1.2543 - val_accuracy: 0.8000\n",
            "Epoch 43/50\n",
            "625/625 [==============================] - 7s 12ms/step - loss: 0.0734 - accuracy: 0.9720 - val_loss: 1.3713 - val_accuracy: 0.7995\n",
            "Epoch 44/50\n",
            "625/625 [==============================] - 7s 12ms/step - loss: 0.0674 - accuracy: 0.9741 - val_loss: 1.5065 - val_accuracy: 0.7997\n",
            "Epoch 45/50\n",
            "625/625 [==============================] - 7s 12ms/step - loss: 0.0717 - accuracy: 0.9729 - val_loss: 1.4870 - val_accuracy: 0.7946\n",
            "Epoch 46/50\n",
            "625/625 [==============================] - 8s 12ms/step - loss: 0.0625 - accuracy: 0.9751 - val_loss: 1.4512 - val_accuracy: 0.8013\n",
            "Epoch 47/50\n",
            "625/625 [==============================] - 8s 12ms/step - loss: 0.0647 - accuracy: 0.9752 - val_loss: 1.4322 - val_accuracy: 0.7937\n",
            "Epoch 48/50\n",
            "625/625 [==============================] - 8s 12ms/step - loss: 0.0621 - accuracy: 0.9747 - val_loss: 1.5606 - val_accuracy: 0.7949\n",
            "Epoch 49/50\n",
            "625/625 [==============================] - 8s 12ms/step - loss: 0.0555 - accuracy: 0.9784 - val_loss: 1.7828 - val_accuracy: 0.7925\n",
            "Epoch 50/50\n",
            "625/625 [==============================] - 7s 12ms/step - loss: 0.0547 - accuracy: 0.9776 - val_loss: 1.5563 - val_accuracy: 0.7965\n"
          ],
          "name": "stdout"
        }
      ]
    },
    {
      "cell_type": "code",
      "metadata": {
        "id": "0bl6SBh3omhM",
        "colab": {
          "base_uri": "https://localhost:8080/",
          "height": 541
        },
        "outputId": "1aa92563-5793-4487-b77d-1c485c7f4dd5"
      },
      "source": [
        "import matplotlib.pyplot as plt\r\n",
        "\r\n",
        "\r\n",
        "def plot_graphs(history, string):\r\n",
        "  plt.plot(history.history[string])\r\n",
        "  plt.plot(history.history['val_'+string])\r\n",
        "  plt.xlabel(\"Epochs\")\r\n",
        "  plt.ylabel(string)\r\n",
        "  plt.legend([string, 'val_'+string])\r\n",
        "  plt.show()\r\n",
        "\r\n",
        "plot_graphs(history, 'accuracy')\r\n",
        "plot_graphs(history, 'loss')"
      ],
      "execution_count": 49,
      "outputs": [
        {
          "output_type": "display_data",
          "data": {
            "image/png": "[encoded data removed]",
            "text/plain": [
              "<Figure size 432x288 with 1 Axes>"
            ]
          },
          "metadata": {
            "tags": [],
            "needs_background": "light"
          }
        },
        {
          "output_type": "display_data",
          "data": {
            "image/png": "[encoded data removed]",
            "text/plain": [
              "<Figure size 432x288 with 1 Axes>"
            ]
          },
          "metadata": {
            "tags": [],
            "needs_background": "light"
          }
        }
      ]
    },
    {
      "cell_type": "code",
      "metadata": {
        "id": "bRZRtIydomjl"
      },
      "source": [
        "# model.save(\"test.h5\")"
      ],
      "execution_count": null,
      "outputs": []
    }
  ]
}